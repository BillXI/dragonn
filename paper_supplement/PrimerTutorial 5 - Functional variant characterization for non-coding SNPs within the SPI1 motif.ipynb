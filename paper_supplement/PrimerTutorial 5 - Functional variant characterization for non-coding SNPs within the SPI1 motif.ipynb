{
 "cells": [
  {
   "cell_type": "markdown",
   "metadata": {
    "colab_type": "text",
    "id": "view-in-github"
   },
   "source": [
    "<a href=\"https://colab.research.google.com/github/kundajelab/dragonn/blob/master/paper_supplement/PrimerTutorial%205%20-%20Functional%20variant%20characterization%20for%20non-coding%20SNPs%20within%20the%20SPI1%20motif.ipynb\" target=\"_parent\"><img src=\"https://colab.research.google.com/assets/colab-badge.svg\" alt=\"Open In Colab\"/></a>"
   ]
  },
  {
   "cell_type": "code",
   "execution_count": 1,
   "metadata": {},
   "outputs": [],
   "source": [
    "# add in predictions on bQTL's. (preactivation)\n",
    "# Minor allele frequency list for bQTL SNPs (Yoruban)\n",
    "\n",
    "#Visualizations: \n",
    "# Confusion matrix representation (observed: -1, 0, +1 vs predicted -1, 0 ,+1)\n",
    "## * include all SNPs \n",
    "## * bQTL's will fall in +/-1 bins \n",
    "# Enrichment curves: model vs motifs \n",
    "# Scatterplot: model vs motifs \n",
    "\n",
    "#Weak affinity vs strong affinity (examples : SNP disrupts motif center, SNP disrupts flanking region) "
   ]
  },
  {
   "cell_type": "markdown",
   "metadata": {
    "colab_type": "text",
    "id": "XIu-8nkCV4zm"
   },
   "source": [
    "# How to train your DragoNN tutorial 5: \n",
    "## Functional variant characterization for non-coding SNPs within the SPI1 motif \n",
    "\n",
    "This tutorial is a supplement to the DragoNN manuscript. \n",
    "\n",
    "This tutorial will take 2 - 3 hours if executed on a GPU.\n",
    "\n",
    "## Outline<a name='outline'>\n",
    "<ol>\n",
    "    <li><a href=#1>Input data: SPI1 ChiP-seq and experimental bQTL data</a></li>\n",
    "    <li><a href=#2>Genomewide classification and regression labels for SPI1 TF ChiPseq</a></li>\n",
    "    <li><a href=#3>Optional: Download pre-generated models and test-set predictions</a></li>\n",
    "    <li><a href=#4>Genome-wide classification for SPI1</a></li>\n",
    "    <li><a href=#5>Calibrate model predictions with Platt Scaling</a></li>\n",
    "    <li><a href=#6>Genome-wide regression for SPI1</a></li> \n",
    "    <li><a href=#7>Calibrate model predictions with Isotonic Regression</a></li> \n",
    "    <li><a href=#8>Genome-wide interpretation of true positive predictions in SPI1, with DeepLIFT</a></li>\n",
    "    <li><a href=#9>Recovering bQTL effect sizes: Classification vs Regression</a></li>\n",
    "    <li><a href=#10>Model-predicted SNP effect sizes vs bQTL effect sizes</a></li>\n",
    "    <li><a href=#11>Conclusions</a></li>    \n",
    "    <li><a href=#12>Save tutorial outputs</a></li>\n",
    "</ol>\n",
    "Github issues on the [dragonn repository](https://github.com/kundajelab/dragonn) with feedback, questions, and discussion are always welcome.\n"
   ]
  },
  {
   "cell_type": "code",
   "execution_count": 2,
   "metadata": {
    "colab": {},
    "colab_type": "code",
    "id": "72XlYRZBluGr"
   },
   "outputs": [],
   "source": [
    "# If you don't have bedtools installed in your environment (i.e. Google Colab), uncomment and run the command below \n",
    "#!apt-get install bedtools\n",
    "#!pip install pybedtools"
   ]
  },
  {
   "cell_type": "code",
   "execution_count": 3,
   "metadata": {
    "colab": {},
    "colab_type": "code",
    "id": "FmftiCCDV4zo"
   },
   "outputs": [],
   "source": [
    "#uncomment the lines below if you are running this tutorial from Google Colab \n",
    "#!pip install dragonn>=0.2.6"
   ]
  },
  {
   "cell_type": "code",
   "execution_count": 4,
   "metadata": {
    "colab": {},
    "colab_type": "code",
    "id": "fyLzeiF5V4zq"
   },
   "outputs": [],
   "source": [
    "# Making sure our results are reproducible\n",
    "from numpy.random import seed\n",
    "seed(1234)\n",
    "from tensorflow import set_random_seed\n",
    "set_random_seed(1234)"
   ]
  },
  {
   "cell_type": "code",
   "execution_count": 5,
   "metadata": {
    "colab": {},
    "colab_type": "code",
    "id": "8M6gdfuJV4zu"
   },
   "outputs": [
    {
     "name": "stderr",
     "output_type": "stream",
     "text": [
      "Using TensorFlow backend.\n",
      "/users/annashch/miniconda3/lib/python3.6/site-packages/sklearn/ensemble/weight_boosting.py:29: DeprecationWarning: numpy.core.umath_tests is an internal NumPy module and should not be imported. It will be removed in a future NumPy release.\n",
      "  from numpy.core.umath_tests import inner1d\n"
     ]
    }
   ],
   "source": [
    "#load dragonn tutorial utilities \n",
    "%reload_ext autoreload\n",
    "%autoreload 2\n",
    "%matplotlib inline\n",
    "import warnings\n",
    "warnings.filterwarnings('ignore')\n",
    "\n",
    "\n",
    "from dragonn.tutorial_utils import *"
   ]
  },
  {
   "cell_type": "markdown",
   "metadata": {
    "colab_type": "text",
    "id": "djDLAi21V4zy"
   },
   "source": [
    "## Input data <a name='1'>\n",
    "<a href=#outline>Home</a>\n",
    "\n",
    "This tutorial uses the same in vivo SPI1 transcription factor CHiP-seq dataset that was used in [Tutorial 4](https://colab.research.google.com/github/kundajelab/dragonn/blob/keras_2.2_tensorflow_1.6_purekeras/paper_supplement/PrimerTutorial%204%20-%20Interpreting%20predictive%20sequence%20features%20in%20in-vivo%20TF%20binding%20events.ipynb). Our goal is to compare predicted variant effect sizes from classification and regression models against experimental bQTL data. The bQTL data in this way serves as a \"gold-standard\" validation that in silico mutagenesis on the deep learning inputs leads to correct variant effect size prediction.  We  will use bQTL data  that has been intersected with SPI1 CISBP genome motif annotations. "
   ]
  },
  {
   "cell_type": "code",
   "execution_count": 6,
   "metadata": {
    "colab": {
     "base_uri": "https://localhost:8080/",
     "height": 413
    },
    "colab_type": "code",
    "id": "O707uf21V4zy",
    "outputId": "f5ca2dbc-9594-4a62-aa67-97190945d622"
   },
   "outputs": [
    {
     "name": "stdout",
     "output_type": "stream",
     "text": [
      "--2019-03-02 17:19:02--  http://mitra.stanford.edu/kundaje/projects/dragonn/dragonn_gm12878_pipeline/spi1_ENCSR000BGQ/cromwell-executions/chip/bb0c3c5a-3889-43fe-a218-05851cecc74a/call-reproducibility_idr/execution/optimal_peak.regionPeak.gz\n",
      "Resolving mitra.stanford.edu (mitra.stanford.edu)... 171.67.96.243\n",
      "Connecting to mitra.stanford.edu (mitra.stanford.edu)|171.67.96.243|:80... connected.\n",
      "HTTP request sent, awaiting response... 200 OK\n",
      "Length: 693298 (677K) [application/x-gzip]\n",
      "Saving to: ‘SPI1.narrowPeak.gz’\n",
      "\n",
      "SPI1.narrowPeak.gz  100%[===================>] 677.05K  --.-KB/s    in 0.02s   \n",
      "\n",
      "2019-03-02 17:19:02 (39.3 MB/s) - ‘SPI1.narrowPeak.gz’ saved [693298/693298]\n",
      "\n",
      "--2019-03-02 17:19:02--  http://mitra.stanford.edu/kundaje/projects/dragonn/dragonn_gm12878_pipeline/spi1_ENCSR000BGQ/cromwell-executions/chip/bb0c3c5a-3889-43fe-a218-05851cecc74a/call-macs2_pooled/execution/ENCFF000OBU.Rep1.merged.nodup.pooled_x_ENCFF000OCW.Control.Rep1.merged.nodup.fc.signal.bigwig\n",
      "Resolving mitra.stanford.edu (mitra.stanford.edu)... 171.67.96.243\n",
      "Connecting to mitra.stanford.edu (mitra.stanford.edu)|171.67.96.243|:80... connected.\n",
      "HTTP request sent, awaiting response... 200 OK\n",
      "Length: 793040708 (756M)\n",
      "Saving to: ‘SPI1.pooled.fc.bigWig’\n",
      "\n",
      "SPI1.pooled.fc.bigW 100%[===================>] 756.30M  45.8MB/s    in 17s     \n",
      "\n",
      "2019-03-02 17:19:19 (44.1 MB/s) - ‘SPI1.pooled.fc.bigWig’ saved [793040708/793040708]\n",
      "\n",
      "--2019-03-02 17:19:21--  http://mitra.stanford.edu/kundaje/projects/dragonn/SPI1.ambiguous.gz\n",
      "Resolving mitra.stanford.edu (mitra.stanford.edu)... 171.67.96.243\n",
      "Connecting to mitra.stanford.edu (mitra.stanford.edu)|171.67.96.243|:80... connected.\n",
      "HTTP request sent, awaiting response... 200 OK\n",
      "Length: 28 [application/x-gzip]\n",
      "Saving to: ‘SPI1.ambiguous.gz’\n",
      "\n",
      "SPI1.ambiguous.gz   100%[===================>]      28  --.-KB/s    in 0s      \n",
      "\n",
      "2019-03-02 17:19:21 (3.81 MB/s) - ‘SPI1.ambiguous.gz’ saved [28/28]\n",
      "\n",
      "--2019-03-02 17:19:21--  http://mitra.stanford.edu/kundaje/projects/dragonn/hg19.chrom.sizes\n",
      "Resolving mitra.stanford.edu (mitra.stanford.edu)... 171.67.96.243\n",
      "Connecting to mitra.stanford.edu (mitra.stanford.edu)|171.67.96.243|:80... connected.\n",
      "HTTP request sent, awaiting response... 200 OK\n",
      "Length: 365\n",
      "Saving to: ‘hg19.chrom.sizes.1’\n",
      "\n",
      "hg19.chrom.sizes.1  100%[===================>]     365  --.-KB/s    in 0s      \n",
      "\n",
      "2019-03-02 17:19:21 (45.0 MB/s) - ‘hg19.chrom.sizes.1’ saved [365/365]\n",
      "\n",
      "--2019-03-02 17:19:21--  http://mitra.stanford.edu/kundaje/projects/dragonn/hg19.genome.fa.gz\n",
      "Resolving mitra.stanford.edu (mitra.stanford.edu)... 171.67.96.243\n",
      "Connecting to mitra.stanford.edu (mitra.stanford.edu)|171.67.96.243|:80... connected.\n",
      "HTTP request sent, awaiting response... 200 OK\n",
      "Length: 970288333 (925M) [application/x-gzip]\n",
      "Saving to: ‘hg19.genome.fa.gz’\n",
      "\n",
      "hg19.genome.fa.gz   100%[===================>] 925.34M   110MB/s    in 9.1s    \n",
      "\n",
      "2019-03-02 17:19:33 (101 MB/s) - ‘hg19.genome.fa.gz’ saved [970288333/970288333]\n",
      "\n",
      "--2019-03-02 17:19:34--  http://mitra.stanford.edu/kundaje/projects/dragonn/hg19.genome.fa.gz.fai\n",
      "Resolving mitra.stanford.edu (mitra.stanford.edu)... 171.67.96.243\n",
      "Connecting to mitra.stanford.edu (mitra.stanford.edu)|171.67.96.243|:80... connected.\n",
      "HTTP request sent, awaiting response... 200 OK\n",
      "Length: 3529 (3.4K) [application/x-gzip]\n",
      "Saving to: ‘hg19.genome.fa.gz.fai.1’\n",
      "\n",
      "hg19.genome.fa.gz.f 100%[===================>]   3.45K  --.-KB/s    in 0s      \n",
      "\n",
      "2019-03-02 17:19:34 (257 MB/s) - ‘hg19.genome.fa.gz.fai.1’ saved [3529/3529]\n",
      "\n",
      "--2019-03-02 17:19:34--  http://mitra.stanford.edu/kundaje/projects/dragonn/hg19.genome.fa.gz.gzi\n",
      "Resolving mitra.stanford.edu (mitra.stanford.edu)... 171.67.96.243\n",
      "Connecting to mitra.stanford.edu (mitra.stanford.edu)|171.67.96.243|:80... connected.\n",
      "HTTP request sent, awaiting response... 200 OK\n",
      "Length: 784296 (766K) [application/x-gzip]\n",
      "Saving to: ‘hg19.genome.fa.gz.gzi.1’\n",
      "\n",
      "hg19.genome.fa.gz.g 100%[===================>] 765.91K  --.-KB/s    in 0.02s   \n",
      "\n",
      "2019-03-02 17:19:34 (42.2 MB/s) - ‘hg19.genome.fa.gz.gzi.1’ saved [784296/784296]\n",
      "\n"
     ]
    }
   ],
   "source": [
    "# SPI1, optimal IDR thresholded peaks, Myers lab, hg19\n",
    "# https://www.encodeproject.org/experiments/ENCSR000BGQ/\n",
    "!wget -O SPI1.narrowPeak.gz http://mitra.stanford.edu/kundaje/projects/dragonn/dragonn_gm12878_pipeline/spi1_ENCSR000BGQ/cromwell-executions/chip/bb0c3c5a-3889-43fe-a218-05851cecc74a/call-reproducibility_idr/execution/optimal_peak.regionPeak.gz\n",
    "\n",
    "#Fold change bigWig track for the SPI1 dataset: \n",
    "!wget -O SPI1.pooled.fc.bigWig http://mitra.stanford.edu/kundaje/projects/dragonn/dragonn_gm12878_pipeline/spi1_ENCSR000BGQ/cromwell-executions/chip/bb0c3c5a-3889-43fe-a218-05851cecc74a/call-macs2_pooled/execution/ENCFF000OBU.Rep1.merged.nodup.pooled_x_ENCFF000OCW.Control.Rep1.merged.nodup.fc.signal.bigwig\n",
    "    \n",
    "## Download \"ambiguous\" peak sets -- these peaks are in the optimal overlap set across replicates, but are not\n",
    "## found to be reproducible at a high confidence (p<0.05) by IDR \n",
    "! wget -O SPI1.ambiguous.gz http://mitra.stanford.edu/kundaje/projects/dragonn/SPI1.ambiguous.gz\n",
    "\n",
    "## Download the hg19 chromsizes file (We only use chroms 1 -22, X, Y for training)\n",
    "!wget http://mitra.stanford.edu/kundaje/projects/dragonn/hg19.chrom.sizes\n",
    "    \n",
    "## Download the hg19 fasta reference genome (and corresponding .fai index)\n",
    "!wget http://mitra.stanford.edu/kundaje/projects/dragonn/hg19.genome.fa.gz\n",
    "!wget http://mitra.stanford.edu/kundaje/projects/dragonn/hg19.genome.fa.gz.fai \n",
    "!wget http://mitra.stanford.edu/kundaje/projects/dragonn/hg19.genome.fa.gz.gzi \n",
    "\n",
    "    \n",
    "\n",
    "\n"
   ]
  },
  {
   "cell_type": "code",
   "execution_count": 7,
   "metadata": {
    "colab": {
     "base_uri": "https://localhost:8080/",
     "height": 215
    },
    "colab_type": "code",
    "id": "-YwnqCV-V4z2",
    "outputId": "85791b16-8647-45ff-cd8b-cf281d618350"
   },
   "outputs": [
    {
     "name": "stdout",
     "output_type": "stream",
     "text": [
      "--2019-03-02 17:19:34--  http://mitra.stanford.edu/kundaje/projects/dragonn/SPI1.bQTLs.txt.gz\n",
      "Resolving mitra.stanford.edu (mitra.stanford.edu)... 171.67.96.243\n",
      "Connecting to mitra.stanford.edu (mitra.stanford.edu)|171.67.96.243|:80... connected.\n",
      "HTTP request sent, awaiting response... 200 OK\n",
      "Length: 23850031 (23M) [application/x-gzip]\n",
      "Saving to: ‘SPI1.bQTLs.txt.gz’\n",
      "\n",
      "SPI1.bQTLs.txt.gz   100%[===================>]  22.75M  43.5MB/s    in 0.5s    \n",
      "\n",
      "2019-03-02 17:19:35 (43.5 MB/s) - ‘SPI1.bQTLs.txt.gz’ saved [23850031/23850031]\n",
      "\n"
     ]
    }
   ],
   "source": [
    "# Download bQTL experimental data for SPI1 loci \n",
    "!wget http://mitra.stanford.edu/kundaje/projects/dragonn/SPI1.bQTLs.txt.gz"
   ]
  },
  {
   "cell_type": "markdown",
   "metadata": {
    "colab_type": "text",
    "id": "sp9mi-6_V4z4"
   },
   "source": [
    "## Generating genome-wide classification and regression labels <a name='2'>\n",
    "<a href=#outline>Home</a>"
   ]
  },
  {
   "cell_type": "markdown",
   "metadata": {
    "colab_type": "text",
    "id": "Zmt5OJP_V4z5"
   },
   "source": [
    "We will use the *genomewide_labels* function from the  [seqdataloader](https://github.com/kundajelab/seqdataloader) package to generate positive and negative labels for the TF-ChIPseq peaks across the genome. We will treat each sample as a task for the model and compare the performance of the model on SPI1 task in the single-tasked and multi-tasked setting."
   ]
  },
  {
   "cell_type": "code",
   "execution_count": 10,
   "metadata": {
    "colab": {},
    "colab_type": "code",
    "id": "SLGpH2rOV4z6"
   },
   "outputs": [],
   "source": [
    "from seqdataloader import * "
   ]
  },
  {
   "cell_type": "code",
   "execution_count": 11,
   "metadata": {
    "colab": {
     "base_uri": "https://localhost:8080/",
     "height": 35
    },
    "colab_type": "code",
    "id": "u2wpRugxV4z7",
    "outputId": "c695d444-b6d0-408b-f294-6afcdc6b1033"
   },
   "outputs": [
    {
     "name": "stdout",
     "output_type": "stream",
     "text": [
      "SPI1\tSPI1.narrowPeak.gz\tSPI1.pooled.fc.bigWig\tSPI1.ambiguous.gz\r\n"
     ]
    }
   ],
   "source": [
    "## seqdataloader accepts an input file, which we call SPI1.tasks.tsv, with task names in column 1, corresponding\n",
    "## peak files in column 2, and the signal track in column 3. In this tutorial, the task file will have a single task entry for the SPI1 TF CHiP-seq\n",
    "with open(\"SPI1.task.tsv\",'w') as f: \n",
    "    f.write(\"SPI1\\tSPI1.narrowPeak.gz\\tSPI1.pooled.fc.bigWig\\tSPI1.ambiguous.gz\\n\")\n",
    "f.close() \n",
    "!cat SPI1.task.tsv"
   ]
  },
  {
   "cell_type": "markdown",
   "metadata": {
    "colab_type": "text",
    "id": "-pqz2oVGV4z_"
   },
   "source": [
    "With the parameter configuration below, seqdataloader splits the genome into 1kb regions, with a stride of 50. Each 1kb region is centered at a 200 bp bin, with a left flank of 400 bases and a right flank of 400 bases. \n",
    "\n",
    "* In the classification case, each 200 bp bin is labeled as positive if a narrowPeak summit overlaps with it. The bin is labeled negative if there is no overlap with the narrowPeak. \n",
    "* In the regression case, the asinh(mean coverage) in the 200 bp bin is computed. \n"
   ]
  },
  {
   "cell_type": "markdown",
   "metadata": {
    "colab_type": "text",
    "id": "e--f8QWuV4z_"
   },
   "source": [
    "**Note**: The label generation may take 10 - 15 minutes to complete. If you prefer not to wait, you can download the \n",
    "pre-generated classification and regression labels for the training, validation, and test sets by uncommenting the code below: "
   ]
  },
  {
   "cell_type": "code",
   "execution_count": null,
   "metadata": {
    "colab": {
     "base_uri": "https://localhost:8080/",
     "height": 1205
    },
    "colab_type": "code",
    "id": "LMG9IzPnV40A",
    "outputId": "aca1e05d-dc62-416e-b22f-b68a53aaf3f7"
   },
   "outputs": [],
   "source": [
    "## Classification labels \n",
    "! wget http://mitra.stanford.edu/kundaje/projects/dragonn/SPI1.train.classification.hdf5\n",
    "! wget http://mitra.stanford.edu/kundaje/projects/dragonn/SPI1.valid.classification.hdf5\n",
    "! wget http://mitra.stanford.edu/kundaje/projects/dragonn/SPI1.test.classification.hdf5\n",
    "\n",
    "## Regression labels \n",
    "! wget http://mitra.stanford.edu/kundaje/projects/dragonn/SPI1.train.regression.hdf5\n",
    "! wget http://mitra.stanford.edu/kundaje/projects/dragonn/SPI1.valid.regression.hdf5\n",
    "! wget http://mitra.stanford.edu/kundaje/projects/dragonn/SPI1.test.regression.hdf5\n"
   ]
  },
  {
   "cell_type": "markdown",
   "metadata": {
    "colab_type": "text",
    "id": "_lleRdAaV40B"
   },
   "source": [
    "If you prefer to generate the labels from scratch, execute the two code cell below: "
   ]
  },
  {
   "cell_type": "code",
   "execution_count": 12,
   "metadata": {
    "colab": {},
    "colab_type": "code",
    "id": "erh3B4hIV40D"
   },
   "outputs": [
    {
     "name": "stdout",
     "output_type": "stream",
     "text": [
      "creating dictionary of bed files and bigwig files for each task:\n",
      "SPI1\n",
      "creating chromosome thread pool\n",
      "launching thread pool\n",
      "pre-allocated df for chrom:chr9with dimensions:(2824249, 4)\n",
      "pre-allocated df for chrom:chr7with dimensions:(3182754, 4)\n",
      "pre-allocated df for chrom:chr5with dimensions:(3618286, 4)\n",
      "got peak subset for chrom:chr9 for task:SPI1\n",
      "finished chromosome:chr9 for task:SPI1\n",
      "got peak subset for chrom:chr7 for task:SPI1\n",
      "got peak subset for chrom:chr5 for task:SPI1\n",
      "finished chromosome:chr7 for task:SPI1\n",
      "pre-allocated df for chrom:chr3with dimensions:(3960429, 4)\n",
      "finished chromosome:chr5 for task:SPI1\n",
      "got peak subset for chrom:chr3 for task:SPI1\n",
      "finished chromosome:chr3 for task:SPI1\n",
      "pre-allocated df for chrom:chr10with dimensions:(2710675, 4)\n",
      "pre-allocated df for chrom:chr8with dimensions:(2927261, 4)\n",
      "got peak subset for chrom:chr10 for task:SPI1\n",
      "finished chromosome:chr10 for task:SPI1\n",
      "pre-allocated df for chrom:chr6with dimensions:(3422282, 4)\n",
      "got peak subset for chrom:chr8 for task:SPI1\n",
      "finished chromosome:chr8 for task:SPI1\n",
      "got peak subset for chrom:chr6 for task:SPI1\n",
      "pre-allocated df for chrom:chr4with dimensions:(3823066, 4)finished chromosome:chr6 for task:SPI1\n",
      "\n",
      "got peak subset for chrom:chr4 for task:SPI1\n",
      "finished chromosome:chr4 for task:SPI1\n",
      "pre-allocated df for chrom:chr11with dimensions:(2700111, 4)\n",
      "pre-allocated df for chrom:chr13with dimensions:(2303378, 4)\n",
      "pre-allocated df for chrom:chr15with dimensions:(2050608, 4)\n",
      "got peak subset for chrom:chr11 for task:SPI1\n",
      "got peak subset for chrom:chr13 for task:SPI1\n",
      "finished chromosome:chr13 for task:SPI1\n",
      "finished chromosome:chr11 for task:SPI1\n",
      "got peak subset for chrom:chr15 for task:SPI1\n",
      "pre-allocated df for chrom:chr17with dimensions:(1623885, 4)\n",
      "finished chromosome:chr15 for task:SPI1\n",
      "got peak subset for chrom:chr17 for task:SPI1\n",
      "finished chromosome:chr17 for task:SPI1\n",
      "pre-allocated df for chrom:chr14with dimensions:(2146971, 4)\n",
      "pre-allocated df for chrom:chr16with dimensions:(1807076, 4)\n",
      "got peak subset for chrom:chr14 for task:SPI1\n",
      "finished chromosome:chr14 for task:SPI1\n",
      "pre-allocated df for chrom:chr18with dimensions:(1561525, 4)\n",
      "got peak subset for chrom:chr16 for task:SPI1\n",
      "pre-allocated df for chrom:chr12with dimensions:(2677018, 4)\n",
      "finished chromosome:chr16 for task:SPI1\n",
      "got peak subset for chrom:chr18 for task:SPI1\n",
      "finished chromosome:chr18 for task:SPI1\n",
      "got peak subset for chrom:chr12 for task:SPI1\n",
      "finished chromosome:chr12 for task:SPI1\n",
      "pre-allocated df for chrom:chr20with dimensions:(1260491, 4)\n",
      "got peak subset for chrom:chr20 for task:SPI1\n",
      "pre-allocated df for chrom:chr22with dimensions:(1026072, 4)\n",
      "finished chromosome:chr20 for task:SPI1\n",
      "got peak subset for chrom:chr22 for task:SPI1\n",
      "finished chromosome:chr22 for task:SPI1\n",
      "pre-allocated df for chrom:chr21with dimensions:(962578, 4)\n",
      "got peak subset for chrom:chr21 for task:SPI1\n",
      "finished chromosome:chr21 for task:SPI1\n",
      "pre-allocated df for chrom:chrXwith dimensions:(3105392, 4)\n",
      "got peak subset for chrom:chrX for task:SPI1\n",
      "finished chromosome:chrX for task:SPI1\n",
      "writing output chromosomes:chr3\n",
      "writing output chromosomes:chr4\n",
      "writing output chromosomes:chr5\n",
      "writing output chromosomes:chr6\n",
      "writing output chromosomes:chr7\n",
      "writing output chromosomes:chr8\n",
      "writing output chromosomes:chr9\n",
      "writing output chromosomes:chr10\n",
      "writing output chromosomes:chr11\n",
      "writing output chromosomes:chr12\n",
      "writing output chromosomes:chr13\n",
      "writing output chromosomes:chr14\n",
      "writing output chromosomes:chr15\n",
      "writing output chromosomes:chr16\n",
      "writing output chromosomes:chr17\n",
      "writing output chromosomes:chr18\n",
      "writing output chromosomes:chr20\n",
      "writing output chromosomes:chr21\n",
      "writing output chromosomes:chr22\n",
      "writing output chromosomes:chrX\n",
      "done!\n",
      "creating dictionary of bed files and bigwig files for each task:\n",
      "SPI1\n",
      "creating chromosome thread pool\n",
      "launching thread pool\n",
      "pre-allocated df for chrom:chr1with dimensions:(4984993, 4)\n",
      "got peak subset for chrom:chr1 for task:SPI1\n",
      "finished chromosome:chr1 for task:SPI1\n",
      "writing output chromosomes:chr1\n",
      "done!\n",
      "creating dictionary of bed files and bigwig files for each task:\n",
      "SPI1\n",
      "creating chromosome thread pool\n",
      "launching thread pool\n",
      "pre-allocated df for chrom:chr19with dimensions:(1182560, 4)\n",
      "got peak subset for chrom:chr19 for task:SPI1\n",
      "finished chromosome:chr19 for task:SPI1\n",
      "pre-allocated df for chrom:chr2with dimensions:(4863968, 4)\n",
      "got peak subset for chrom:chr2 for task:SPI1\n",
      "finished chromosome:chr2 for task:SPI1\n",
      "writing output chromosomes:chr2\n",
      "writing output chromosomes:chr19\n",
      "done!\n"
     ]
    }
   ],
   "source": [
    "#  Generate genome-wide classification labels \n",
    "\n",
    "#1) Training set: all chromosomes with the exception of 1,2, and 19 in our training set. Also, the dataset does not\n",
    "# include chromosome Y, so we exclude it as well. \n",
    "\n",
    "train_set_params={\n",
    "    'task_list':\"SPI1.task.tsv\",\n",
    "    'outf':\"SPI1.train.classification.hdf5\",\n",
    "    'output_type':'hdf5',\n",
    "    'chrom_sizes':'hg19.chrom.sizes',\n",
    "    'chroms_to_exclude':['chr1','chr2','chr19','chrY'],\n",
    "    'bin_stride':50,\n",
    "    'left_flank':400,\n",
    "    'right_flank':400,\n",
    "    'bin_size':200,\n",
    "    'threads':4,\n",
    "    'subthreads':4,\n",
    "    'allow_ambiguous':True,\n",
    "    'labeling_approach':'peak_summit_in_bin_classification'\n",
    "    }\n",
    "genomewide_labels(train_set_params)\n",
    "\n",
    "#2) Validation set: Chromosome 1\n",
    "valid_set_params={'task_list':\"SPI1.task.tsv\",\n",
    "    'outf':\"SPI1.valid.classification.hdf5\",\n",
    "    'output_type':'hdf5',\n",
    "    'chrom_sizes':'hg19.chrom.sizes',\n",
    "    'chroms_to_keep':'chr1',\n",
    "    'bin_stride':50,\n",
    "    'left_flank':400,\n",
    "    'right_flank':400,\n",
    "    'bin_size':200,\n",
    "    'threads':1,\n",
    "    'subthreads':4,\n",
    "    'allow_ambiguous':True,\n",
    "    'labeling_approach':'peak_summit_in_bin_classification'\n",
    "    }\n",
    "genomewide_labels(valid_set_params)\n",
    "\n",
    "#3) Test set: Chromosomes 2, 19 \n",
    "test_set_params={\n",
    "    'task_list':\"SPI1.task.tsv\",\n",
    "    'outf':\"SPI1.test.classification.hdf5\",\n",
    "    'output_type':'hdf5',\n",
    "    'chrom_sizes':'hg19.chrom.sizes',\n",
    "    'chroms_to_keep':['chr2','chr19'],\n",
    "    'bin_stride':50,\n",
    "    'left_flank':400,\n",
    "    'right_flank':400,\n",
    "    'bin_size':200,\n",
    "    'threads':2,\n",
    "    'subthreads':4,\n",
    "    'allow_ambiguous':True,\n",
    "    'labeling_approach':'peak_summit_in_bin_classification'\n",
    "    }\n",
    "genomewide_labels(test_set_params)\n"
   ]
  },
  {
   "cell_type": "code",
   "execution_count": 13,
   "metadata": {
    "colab": {},
    "colab_type": "code",
    "id": "PBqbysuAV40G"
   },
   "outputs": [
    {
     "name": "stdout",
     "output_type": "stream",
     "text": [
      "creating dictionary of bed files and bigwig files for each task:\n",
      "SPI1\n",
      "creating chromosome thread pool\n",
      "launching thread pool\n",
      "pre-allocated df for chrom:chr9with dimensions:(2824249, 4)\n",
      "pre-allocated df for chrom:chr7with dimensions:(3182754, 4)\n",
      "starting chromosome:chr9 for task:SPI1\n",
      "starting chromosome:chr7 for task:SPI1\n",
      "pre-allocated df for chrom:chr5with dimensions:(3618286, 4)\n",
      "starting chromosome:chr5 for task:SPI1\n",
      "pre-allocated df for chrom:chr3with dimensions:(3960429, 4)\n",
      "starting chromosome:chr3 for task:SPI1\n",
      "finished chromosome:chr9 for task:SPI1\n",
      "finished chromosome:chr7 for task:SPI1\n",
      "finished chromosome:chr5 for task:SPI1\n",
      "finished chromosome:chr3 for task:SPI1\n",
      "pre-allocated df for chrom:chr10with dimensions:(2710675, 4)\n",
      "starting chromosome:chr10 for task:SPI1\n",
      "pre-allocated df for chrom:chr8with dimensions:(2927261, 4)\n",
      "starting chromosome:chr8 for task:SPI1\n",
      "pre-allocated df for chrom:chr6with dimensions:(3422282, 4)\n",
      "starting chromosome:chr6 for task:SPI1\n",
      "finished chromosome:chr10 for task:SPI1\n",
      "finished chromosome:chr8 for task:SPI1\n",
      "pre-allocated df for chrom:chr4with dimensions:(3823066, 4)\n",
      "starting chromosome:chr4 for task:SPI1\n",
      "finished chromosome:chr6 for task:SPI1\n",
      "finished chromosome:chr4 for task:SPI1\n",
      "pre-allocated df for chrom:chr13with dimensions:(2303378, 4)\n",
      "starting chromosome:chr13 for task:SPI1\n",
      "pre-allocated df for chrom:chr11with dimensions:(2700111, 4)\n",
      "starting chromosome:chr11 for task:SPI1\n",
      "pre-allocated df for chrom:chr15with dimensions:(2050608, 4)\n",
      "starting chromosome:chr15 for task:SPI1\n",
      "finished chromosome:chr13 for task:SPI1\n",
      "finished chromosome:chr11 for task:SPI1\n",
      "pre-allocated df for chrom:chr17with dimensions:(1623885, 4)\n",
      "starting chromosome:chr17 for task:SPI1\n",
      "finished chromosome:chr15 for task:SPI1\n",
      "finished chromosome:chr17 for task:SPI1\n",
      "pre-allocated df for chrom:chr14with dimensions:(2146971, 4)\n",
      "starting chromosome:chr14 for task:SPI1\n",
      "pre-allocated df for chrom:chr16with dimensions:(1807076, 4)\n",
      "pre-allocated df for chrom:chr12with dimensions:(2677018, 4)\n",
      "starting chromosome:chr16 for task:SPI1\n",
      "starting chromosome:chr12 for task:SPI1\n",
      "pre-allocated df for chrom:chr18with dimensions:(1561525, 4)\n",
      "starting chromosome:chr18 for task:SPI1\n",
      "finished chromosome:chr14 for task:SPI1\n",
      "finished chromosome:chr16 for task:SPI1\n",
      "pre-allocated df for chrom:chr20with dimensions:(1260491, 4)\n",
      "starting chromosome:chr20 for task:SPI1\n",
      "finished chromosome:chr12 for task:SPI1\n",
      "finished chromosome:chr18 for task:SPI1\n",
      "pre-allocated df for chrom:chr22with dimensions:(1026072, 4)\n",
      "starting chromosome:chr22 for task:SPI1\n",
      "finished chromosome:chr20 for task:SPI1\n",
      "pre-allocated df for chrom:chr21with dimensions:(962578, 4)\n",
      "starting chromosome:chr21 for task:SPI1\n",
      "finished chromosome:chr22 for task:SPI1\n",
      "finished chromosome:chr21 for task:SPI1\n",
      "pre-allocated df for chrom:chrXwith dimensions:(3105392, 4)\n",
      "starting chromosome:chrX for task:SPI1\n",
      "finished chromosome:chrX for task:SPI1\n",
      "writing output chromosomes:chr3\n",
      "writing output chromosomes:chr4\n",
      "writing output chromosomes:chr5\n",
      "writing output chromosomes:chr6\n",
      "writing output chromosomes:chr7\n",
      "writing output chromosomes:chr8\n",
      "writing output chromosomes:chr9\n",
      "writing output chromosomes:chr10\n",
      "writing output chromosomes:chr11\n",
      "writing output chromosomes:chr12\n",
      "writing output chromosomes:chr13\n",
      "writing output chromosomes:chr14\n",
      "writing output chromosomes:chr15\n",
      "writing output chromosomes:chr16\n",
      "writing output chromosomes:chr17\n",
      "writing output chromosomes:chr18\n",
      "writing output chromosomes:chr20\n",
      "writing output chromosomes:chr21\n",
      "writing output chromosomes:chr22\n",
      "writing output chromosomes:chrX\n",
      "done!\n",
      "creating dictionary of bed files and bigwig files for each task:\n",
      "SPI1\n",
      "creating chromosome thread pool\n",
      "launching thread pool\n",
      "pre-allocated df for chrom:chr1with dimensions:(4984993, 4)\n",
      "starting chromosome:chr1 for task:SPI1\n",
      "finished chromosome:chr1 for task:SPI1\n",
      "writing output chromosomes:chr1\n",
      "done!\n",
      "creating dictionary of bed files and bigwig files for each task:\n",
      "SPI1\n",
      "creating chromosome thread pool\n",
      "launching thread pool\n",
      "pre-allocated df for chrom:chr19with dimensions:(1182560, 4)\n",
      "starting chromosome:chr19 for task:SPI1\n",
      "finished chromosome:chr19 for task:SPI1\n",
      "pre-allocated df for chrom:chr2with dimensions:(4863968, 4)\n",
      "starting chromosome:chr2 for task:SPI1\n",
      "finished chromosome:chr2 for task:SPI1\n",
      "writing output chromosomes:chr2\n",
      "writing output chromosomes:chr19\n",
      "done!\n"
     ]
    }
   ],
   "source": [
    "# Generate regression labels genome-wide \n",
    "\n",
    "#1) Training set: all chromosomes with the exception of 1,2, and 19 in our training set \n",
    "\n",
    "train_set_params={\n",
    "    'task_list':\"SPI1.task.tsv\",\n",
    "    'outf':\"SPI1.train.regression.hdf5\",\n",
    "    'output_type':'hdf5',\n",
    "    'chrom_sizes':'hg19.chrom.sizes',\n",
    "    'chroms_to_exclude':['chr1','chr2','chr19','chrY'],\n",
    "    'bin_stride':50,\n",
    "    'left_flank':400,\n",
    "    'right_flank':400,\n",
    "    'bin_size':200,\n",
    "    'threads':4,\n",
    "    'subthreads':4,\n",
    "    'allow_ambiguous':True,\n",
    "    'labeling_approach':'all_genome_bins_regression'\n",
    "    }\n",
    "genomewide_labels(train_set_params)\n",
    "\n",
    "#2) Validation set: Chromosome 1\n",
    "valid_set_params={'task_list':\"SPI1.task.tsv\",\n",
    "    'outf':\"SPI1.valid.regression.hdf5\",\n",
    "    'output_type':'hdf5',\n",
    "    'chrom_sizes':'hg19.chrom.sizes',\n",
    "    'chroms_to_keep':'chr1',\n",
    "    'bin_stride':50,\n",
    "    'left_flank':400,\n",
    "    'right_flank':400,\n",
    "    'bin_size':200,\n",
    "    'threads':1,\n",
    "    'subthreads':4,\n",
    "    'allow_ambiguous':True,\n",
    "    'labeling_approach':'all_genome_bins_regression'\n",
    "    }\n",
    "genomewide_labels(valid_set_params)\n",
    "\n",
    "#3) Test set: Chromosomes 2, 19 \n",
    "test_set_params={\n",
    "    'task_list':\"SPI1.task.tsv\",\n",
    "    'outf':\"SPI1.test.regression.hdf5\",\n",
    "    'output_type':'hdf5',\n",
    "    'chrom_sizes':'hg19.chrom.sizes',\n",
    "    'chroms_to_keep':['chr2','chr19'],\n",
    "    'bin_stride':50,\n",
    "    'left_flank':400,\n",
    "    'right_flank':400,\n",
    "    'bin_size':200,\n",
    "    'threads':2,\n",
    "    'subthreads':4,\n",
    "    'allow_ambiguous':True,\n",
    "    'labeling_approach':'all_genome_bins_regression'\n",
    "    }\n",
    "genomewide_labels(test_set_params)\n"
   ]
  },
  {
   "cell_type": "markdown",
   "metadata": {
    "colab_type": "text",
    "id": "x1m9HsgXV40J"
   },
   "source": [
    "Let's examine the files that were generated: "
   ]
  },
  {
   "cell_type": "code",
   "execution_count": 14,
   "metadata": {
    "colab": {
     "base_uri": "https://localhost:8080/",
     "height": 390
    },
    "colab_type": "code",
    "id": "Q0SgKnZtV40J",
    "outputId": "5e5501e6-61e3-44e1-f6ca-94e70f3ff63f"
   },
   "outputs": [
    {
     "data": {
      "text/html": [
       "<div>\n",
       "<style scoped>\n",
       "    .dataframe tbody tr th:only-of-type {\n",
       "        vertical-align: middle;\n",
       "    }\n",
       "\n",
       "    .dataframe tbody tr th {\n",
       "        vertical-align: top;\n",
       "    }\n",
       "\n",
       "    .dataframe thead th {\n",
       "        text-align: right;\n",
       "    }\n",
       "</style>\n",
       "<table border=\"1\" class=\"dataframe\">\n",
       "  <thead>\n",
       "    <tr style=\"text-align: right;\">\n",
       "      <th></th>\n",
       "      <th></th>\n",
       "      <th></th>\n",
       "      <th>SPI1</th>\n",
       "    </tr>\n",
       "    <tr>\n",
       "      <th>CHR</th>\n",
       "      <th>START</th>\n",
       "      <th>END</th>\n",
       "      <th></th>\n",
       "    </tr>\n",
       "  </thead>\n",
       "  <tbody>\n",
       "    <tr>\n",
       "      <th rowspan=\"10\" valign=\"top\">chr3</th>\n",
       "      <th>50000000</th>\n",
       "      <th>50001000</th>\n",
       "      <td>0.0</td>\n",
       "    </tr>\n",
       "    <tr>\n",
       "      <th>50000050</th>\n",
       "      <th>50001050</th>\n",
       "      <td>0.0</td>\n",
       "    </tr>\n",
       "    <tr>\n",
       "      <th>50000100</th>\n",
       "      <th>50001100</th>\n",
       "      <td>0.0</td>\n",
       "    </tr>\n",
       "    <tr>\n",
       "      <th>50000150</th>\n",
       "      <th>50001150</th>\n",
       "      <td>0.0</td>\n",
       "    </tr>\n",
       "    <tr>\n",
       "      <th>50000200</th>\n",
       "      <th>50001200</th>\n",
       "      <td>0.0</td>\n",
       "    </tr>\n",
       "    <tr>\n",
       "      <th>50000250</th>\n",
       "      <th>50001250</th>\n",
       "      <td>0.0</td>\n",
       "    </tr>\n",
       "    <tr>\n",
       "      <th>50000300</th>\n",
       "      <th>50001300</th>\n",
       "      <td>0.0</td>\n",
       "    </tr>\n",
       "    <tr>\n",
       "      <th>50000350</th>\n",
       "      <th>50001350</th>\n",
       "      <td>0.0</td>\n",
       "    </tr>\n",
       "    <tr>\n",
       "      <th>50000400</th>\n",
       "      <th>50001400</th>\n",
       "      <td>0.0</td>\n",
       "    </tr>\n",
       "    <tr>\n",
       "      <th>50000450</th>\n",
       "      <th>50001450</th>\n",
       "      <td>0.0</td>\n",
       "    </tr>\n",
       "  </tbody>\n",
       "</table>\n",
       "</div>"
      ],
      "text/plain": [
       "                        SPI1\n",
       "CHR  START    END           \n",
       "chr3 50000000 50001000   0.0\n",
       "     50000050 50001050   0.0\n",
       "     50000100 50001100   0.0\n",
       "     50000150 50001150   0.0\n",
       "     50000200 50001200   0.0\n",
       "     50000250 50001250   0.0\n",
       "     50000300 50001300   0.0\n",
       "     50000350 50001350   0.0\n",
       "     50000400 50001400   0.0\n",
       "     50000450 50001450   0.0"
      ]
     },
     "execution_count": 14,
     "metadata": {},
     "output_type": "execute_result"
    }
   ],
   "source": [
    "#The code generates bed file outputs with a label of 1 or 0 for each 1kb\n",
    "# genome bin for each task. Note that the bins are shifted with a stride of 50.\n",
    "pd.read_hdf(\"SPI1.train.classification.hdf5\",start=1000000,stop=1000010)"
   ]
  },
  {
   "cell_type": "code",
   "execution_count": 15,
   "metadata": {
    "colab": {
     "base_uri": "https://localhost:8080/",
     "height": 390
    },
    "colab_type": "code",
    "id": "weH35tmhV40N",
    "outputId": "a8aea293-f560-400f-cb2f-2d0085625934"
   },
   "outputs": [
    {
     "data": {
      "text/html": [
       "<div>\n",
       "<style scoped>\n",
       "    .dataframe tbody tr th:only-of-type {\n",
       "        vertical-align: middle;\n",
       "    }\n",
       "\n",
       "    .dataframe tbody tr th {\n",
       "        vertical-align: top;\n",
       "    }\n",
       "\n",
       "    .dataframe thead th {\n",
       "        text-align: right;\n",
       "    }\n",
       "</style>\n",
       "<table border=\"1\" class=\"dataframe\">\n",
       "  <thead>\n",
       "    <tr style=\"text-align: right;\">\n",
       "      <th></th>\n",
       "      <th></th>\n",
       "      <th></th>\n",
       "      <th>SPI1</th>\n",
       "    </tr>\n",
       "    <tr>\n",
       "      <th>CHR</th>\n",
       "      <th>START</th>\n",
       "      <th>END</th>\n",
       "      <th></th>\n",
       "    </tr>\n",
       "  </thead>\n",
       "  <tbody>\n",
       "    <tr>\n",
       "      <th rowspan=\"10\" valign=\"top\">chr3</th>\n",
       "      <th>50000000</th>\n",
       "      <th>50001000</th>\n",
       "      <td>0.287037</td>\n",
       "    </tr>\n",
       "    <tr>\n",
       "      <th>50000050</th>\n",
       "      <th>50001050</th>\n",
       "      <td>0.436855</td>\n",
       "    </tr>\n",
       "    <tr>\n",
       "      <th>50000100</th>\n",
       "      <th>50001100</th>\n",
       "      <td>0.491599</td>\n",
       "    </tr>\n",
       "    <tr>\n",
       "      <th>50000150</th>\n",
       "      <th>50001150</th>\n",
       "      <td>0.460063</td>\n",
       "    </tr>\n",
       "    <tr>\n",
       "      <th>50000200</th>\n",
       "      <th>50001200</th>\n",
       "      <td>0.460063</td>\n",
       "    </tr>\n",
       "    <tr>\n",
       "      <th>50000250</th>\n",
       "      <th>50001250</th>\n",
       "      <td>0.460063</td>\n",
       "    </tr>\n",
       "    <tr>\n",
       "      <th>50000300</th>\n",
       "      <th>50001300</th>\n",
       "      <td>0.491599</td>\n",
       "    </tr>\n",
       "    <tr>\n",
       "      <th>50000350</th>\n",
       "      <th>50001350</th>\n",
       "      <td>0.519880</td>\n",
       "    </tr>\n",
       "    <tr>\n",
       "      <th>50000400</th>\n",
       "      <th>50001400</th>\n",
       "      <td>0.633077</td>\n",
       "    </tr>\n",
       "    <tr>\n",
       "      <th>50000450</th>\n",
       "      <th>50001450</th>\n",
       "      <td>0.709212</td>\n",
       "    </tr>\n",
       "  </tbody>\n",
       "</table>\n",
       "</div>"
      ],
      "text/plain": [
       "                            SPI1\n",
       "CHR  START    END               \n",
       "chr3 50000000 50001000  0.287037\n",
       "     50000050 50001050  0.436855\n",
       "     50000100 50001100  0.491599\n",
       "     50000150 50001150  0.460063\n",
       "     50000200 50001200  0.460063\n",
       "     50000250 50001250  0.460063\n",
       "     50000300 50001300  0.491599\n",
       "     50000350 50001350  0.519880\n",
       "     50000400 50001400  0.633077\n",
       "     50000450 50001450  0.709212"
      ]
     },
     "execution_count": 15,
     "metadata": {},
     "output_type": "execute_result"
    }
   ],
   "source": [
    "pd.read_hdf(\"SPI1.train.regression.hdf5\",start=1000000,stop=1000010)"
   ]
  },
  {
   "cell_type": "markdown",
   "metadata": {
    "colab_type": "text",
    "id": "FKHBBFpRV40Q"
   },
   "source": [
    "## Optional: Download pre-generated models and test-set predictions <a name='3'>\n",
    "<a href=#outline>Home</a>\n",
    "\n",
    "Next, we will train classification and regression models to predict TF CHiP-seq peaks for SPI1. If you want to skip straight to model interpretation and bQTL analysis, you can download the pre-trained models by uncommenting the \n",
    "block of code below. "
   ]
  },
  {
   "cell_type": "code",
   "execution_count": 7,
   "metadata": {
    "colab": {},
    "colab_type": "code",
    "id": "CqyIROINV40R"
   },
   "outputs": [],
   "source": [
    "from keras.models import load_model \n",
    "\n",
    "## Download classification model \n",
    "#! wget http://mitra.stanford.edu/kundaje/projects/dragonn/SPI1.classification.model.hdf5\n",
    "#spi1_classification_model=load_model(\"SPI1.classification.model.hdf5\")\n",
    "\n",
    "## Download regression model \n",
    "#! wget http://mitra.stanford.edu/kundaje/projects/dragonn/SPI1.regression.model.hdf5\n",
    "#spi1_regression_model=load_model(\"SPI1.regression.model.hdf5\")\n",
    "\n",
    "\n",
    "## Get test set classification model and regression model predictions \n",
    "#import h5py\n",
    "#test_set_predictions=h5py.File(\"SPI1.test.predictions.hdf5\")\n",
    "#spi1_test_classification_predictions=test_set_predictions['classification'].value \n",
    "#spi1_test_regression_predictions=test_set_predictions['regression'].value "
   ]
  },
  {
   "cell_type": "markdown",
   "metadata": {
    "colab_type": "text",
    "id": "FZcwz5AmV40U"
   },
   "source": [
    "## Genome-wide classification model <a name='4'>\n",
    "<a href=#outline>Home</a>\n"
   ]
  },
  {
   "cell_type": "code",
   "execution_count": 16,
   "metadata": {
    "colab": {},
    "colab_type": "code",
    "id": "ZeBBukYGV40V"
   },
   "outputs": [],
   "source": [
    "#To prepare for model training, we import the necessary functions and submodules from keras\n",
    "from keras.models import Sequential\n",
    "from keras.layers.core import Dropout, Reshape, Dense, Activation, Flatten\n",
    "from keras.layers.convolutional import Conv2D, MaxPooling2D\n",
    "from keras.optimizers import Adadelta, SGD, RMSprop;\n",
    "import keras.losses;\n",
    "from keras.constraints import maxnorm;\n",
    "from keras.layers.normalization import BatchNormalization\n",
    "from keras.regularizers import l1, l2\n",
    "from keras.callbacks import EarlyStopping, History\n",
    "from keras import backend as K \n",
    "K.set_image_data_format('channels_last')"
   ]
  },
  {
   "cell_type": "code",
   "execution_count": 20,
   "metadata": {
    "colab": {},
    "colab_type": "code",
    "id": "CXtJhYf2V40Z"
   },
   "outputs": [],
   "source": [
    "from concise.metrics import tpr, tnr, fpr, fnr, precision, f1\n",
    "from keras.constraints import max_norm\n",
    "from dragonn.custom_losses import get_ambig_binary_crossentropy\n",
    "def initialize_classification_model(ntasks=1):\n",
    "    #Define the model architecture in keras (regularized, 3-layer convolution model followed by 1 dense layer)\n",
    "    model=Sequential() \n",
    "    \n",
    "    model.add(Conv2D(filters=50,kernel_size=(1,15),padding=\"same\", kernel_constraint=max_norm(7.0,axis=-1),input_shape=(1,1000,4)))\n",
    "    model.add(BatchNormalization(axis=-1))\n",
    "    model.add(Activation('relu'))\n",
    "\n",
    "    model.add(Conv2D(filters=50,kernel_size=(1,15),padding=\"same\"))\n",
    "    model.add(BatchNormalization(axis=-1))\n",
    "    model.add(Activation('relu'))\n",
    "\n",
    "    model.add(Conv2D(filters=50,kernel_size=(1,13),padding=\"same\"))\n",
    "    model.add(BatchNormalization(axis=-1))\n",
    "    model.add(Activation('relu'))\n",
    "    \n",
    "    model.add(MaxPooling2D(pool_size=(1,40)))\n",
    "    \n",
    "    model.add(Flatten())\n",
    "    model.add(Dense(50))\n",
    "    model.add(BatchNormalization(axis=-1))\n",
    "    model.add(Activation('relu'))\n",
    "    model.add(Dropout(0.2))\n",
    "    \n",
    "    model.add(Dense(ntasks))\n",
    "    model.add(Activation(\"sigmoid\"))\n",
    "    \n",
    "    #use the custom ambig_binary_crossentropy loss, indicating that a value of np.nan indicates an ambiguous label \n",
    "    loss=get_ambig_binary_crossentropy()\n",
    "    \n",
    "    ##compile the model, specifying the Adam optimizer, and binary cross-entropy loss. \n",
    "    model.compile(optimizer='adam', loss=loss,\n",
    "                  metrics=[tpr,\n",
    "                           tnr,\n",
    "                           fpr,\n",
    "                           fnr,\n",
    "                           precision,\n",
    "                           f1])\n",
    "    return model"
   ]
  },
  {
   "cell_type": "markdown",
   "metadata": {
    "colab_type": "text",
    "id": "XY-g6ik9V40c"
   },
   "source": [
    "We create generators for the training and validation data: "
   ]
  },
  {
   "cell_type": "code",
   "execution_count": 26,
   "metadata": {
    "colab": {
     "base_uri": "https://localhost:8080/",
     "height": 35
    },
    "colab_type": "code",
    "id": "5PrSMLLiV40d",
    "outputId": "d7ae2438-6e8e-4fc0-c1b3-6bde39667604"
   },
   "outputs": [],
   "source": [
    "#create the generators, upsample positives to ensure they constitute 30% of each batch \n",
    "from dragonn.generators import * \n",
    "spi1_train_classification_gen=DataGenerator(\"SPI1.train.classification.hdf5\",\"hg19.genome.fa.gz\",upsample_ratio=0.3, batch_size=256)\n",
    "spi1_valid_classification_gen=DataGenerator(\"SPI1.valid.classification.hdf5\",\"hg19.genome.fa.gz\",upsample_ratio=0.01, batch_size=256)\n"
   ]
  },
  {
   "cell_type": "code",
   "execution_count": 27,
   "metadata": {
    "colab": {},
    "colab_type": "code",
    "id": "NLRfBhebV40e"
   },
   "outputs": [
    {
     "name": "stdout",
     "output_type": "stream",
     "text": [
      "Epoch 1/150\n",
      "10000/10000 [==============================] - 550s 55ms/step - loss: 0.1399 - sensitivity: 0.9140 - specificity: 0.9584 - fpr: 0.0416 - fnr: 0.0860 - precision: 0.9024 - f1: 0.9073 - val_loss: 0.0920 - val_sensitivity: 0.8914 - val_specificity: 0.9671 - val_fpr: 0.0329 - val_fnr: 0.1086 - val_precision: 0.2012 - val_f1: nan\n",
      "Epoch 2/150\n",
      "10000/10000 [==============================] - 522s 52ms/step - loss: 0.0970 - sensitivity: 0.9531 - specificity: 0.9687 - fpr: 0.0313 - fnr: 0.0469 - precision: 0.9288 - f1: 0.9404 - val_loss: 0.1186 - val_sensitivity: 0.9369 - val_specificity: 0.9503 - val_fpr: 0.0497 - val_fnr: 0.0631 - val_precision: 0.1429 - val_f1: nan\n",
      "Epoch 3/150\n",
      "10000/10000 [==============================] - 522s 52ms/step - loss: 0.0827 - sensitivity: 0.9658 - specificity: 0.9720 - fpr: 0.0280 - fnr: 0.0342 - precision: 0.9366 - f1: 0.9506 - val_loss: 0.0931 - val_sensitivity: 0.9127 - val_specificity: 0.9618 - val_fpr: 0.0382 - val_fnr: 0.0873 - val_precision: 0.1796 - val_f1: nan\n",
      "Epoch 4/150\n",
      "10000/10000 [==============================] - 542s 54ms/step - loss: 0.0748 - sensitivity: 0.9724 - specificity: 0.9739 - fpr: 0.0261 - fnr: 0.0276 - precision: 0.9412 - f1: 0.9562 - val_loss: 0.2405 - val_sensitivity: 0.9742 - val_specificity: 0.8955 - val_fpr: 0.1045 - val_fnr: 0.0258 - val_precision: 0.0720 - val_f1: nan\n"
     ]
    }
   ],
   "source": [
    "#Train the SPI1 classification model \n",
    "spi1_classification_model=initialize_classification_model()\n",
    "\n",
    "## use the keras fit_generator function to train the model with early stopping after 3 epochs \n",
    "history_classification=spi1_classification_model.fit_generator(spi1_train_classification_gen,\n",
    "                                                  validation_data=spi1_valid_classification_gen,\n",
    "                                                  steps_per_epoch=10000,\n",
    "                                                  validation_steps=5000,\n",
    "                                                  epochs=150,\n",
    "                                                  verbose=1,\n",
    "                                                  use_multiprocessing=True,\n",
    "                                                  workers=40,\n",
    "                                                  max_queue_size=100,\n",
    "                                                  callbacks=[EarlyStopping(patience=3,restore_best_weights=True),History()])"
   ]
  },
  {
   "cell_type": "code",
   "execution_count": 28,
   "metadata": {
    "colab": {},
    "colab_type": "code",
    "id": "DN2bFz_aV40h",
    "outputId": "323bc266-fc71-4e30-e277-b2db3c3e9a0a"
   },
   "outputs": [
    {
     "data": {
      "image/png": "[encoded data removed]",
      "text/plain": [
       "<Figure size 720x288 with 1 Axes>"
      ]
     },
     "metadata": {},
     "output_type": "display_data"
    }
   ],
   "source": [
    "## Plot the learning curves for SPI1  \n",
    "from dragonn.tutorial_utils import plot_learning_curve\n",
    "plot_learning_curve(history_classification)"
   ]
  },
  {
   "cell_type": "markdown",
   "metadata": {
    "colab_type": "text",
    "id": "YoP336y_V40k"
   },
   "source": [
    "We now measure how well the model performed by calculating performance metrics on the test splits across the whole genome. "
   ]
  },
  {
   "cell_type": "code",
   "execution_count": 29,
   "metadata": {
    "colab": {},
    "colab_type": "code",
    "id": "ZF6VNZH3V40k",
    "outputId": "101ca0a8-db49-44cc-c133-e799b070e1e0"
   },
   "outputs": [
    {
     "name": "stdout",
     "output_type": "stream",
     "text": [
      "6047/6047 [==============================] - 428s 71ms/step\n"
     ]
    }
   ],
   "source": [
    "from dragonn.generators import * \n",
    "spi1_test_classification_gen=DataGenerator(\"SPI1.test.classification.hdf5\",\n",
    "                                       \"hg19.genome.fa.gz\",\n",
    "                                         upsample=False,\n",
    "                                         add_revcomp=False,\n",
    "                                         batch_size=1000,\n",
    "                                         tasks=['SPI1'])\n",
    "spi1_test_classification_predictions=spi1_classification_model.predict_generator(spi1_test_classification_gen,\n",
    "                                                               max_queue_size=5000, \n",
    "                                                               workers=40, \n",
    "                                                               use_multiprocessing=True, \n",
    "                                                               verbose=1)\n",
    "spi1_test_classification_truth=spi1_test_classification_gen.data"
   ]
  },
  {
   "cell_type": "code",
   "execution_count": 40,
   "metadata": {},
   "outputs": [
    {
     "data": {
      "text/plain": [
       "(6046528, 1)"
      ]
     },
     "execution_count": 40,
     "metadata": {},
     "output_type": "execute_result"
    }
   ],
   "source": [
    "spi1_test_classification_predictions.shape"
   ]
  },
  {
   "cell_type": "code",
   "execution_count": 49,
   "metadata": {},
   "outputs": [],
   "source": [
    "#remove nans, as they corresponnd to ambiguous values \n",
    "nan_indices=np.isnan(spi1_test_classification_truth['SPI1'])"
   ]
  },
  {
   "cell_type": "code",
   "execution_count": 50,
   "metadata": {},
   "outputs": [],
   "source": [
    "spi1_test_classification_truth=spi1_test_classification_truth[~nan_indices]\n",
    "spi1_test_classification_predictions=spi1_test_classification_predictions[~nan_indices]"
   ]
  },
  {
   "cell_type": "code",
   "execution_count": 51,
   "metadata": {
    "colab": {},
    "colab_type": "code",
    "id": "X83Mt6VXV40t",
    "outputId": "b7b4fe79-812d-463a-f2f1-611122a6fa0e"
   },
   "outputs": [
    {
     "name": "stdout",
     "output_type": "stream",
     "text": [
      "Loss: 0.0886\tBalanced Accuracy: 92.79%\t auROC: 0.986\t auPRC Careful: 0.375\t auPRC Trapezoidal: 0.375\n",
      "\tRecall at 5%|10%|20% FDR: 0.0%|0.0%|4.3%\t Num Positives: 20574\t Num Negatives: 6015749\n"
     ]
    }
   ],
   "source": [
    "## Generate a ClassificationResult object to print performance metrics on held-out test set \n",
    "from dragonn.metrics import ClassificationResult\n",
    "print(ClassificationResult(spi1_test_classification_truth.values.astype(bool),spi1_test_classification_predictions))"
   ]
  },
  {
   "cell_type": "markdown",
   "metadata": {},
   "source": [
    "## Calibrate the model predictions with Platt scaling  <a name='5'>\n",
    "<a href=#outline>Home</a>"
   ]
  },
  {
   "cell_type": "code",
   "execution_count": 52,
   "metadata": {},
   "outputs": [],
   "source": [
    "from scipy.special import logit,expit \n",
    "spi1_test_classification_logits=logit(spi1_test_classification_predictions)"
   ]
  },
  {
   "cell_type": "code",
   "execution_count": 53,
   "metadata": {},
   "outputs": [],
   "source": [
    "import abstention \n",
    "from abstention.calibration import PlattScaling, IsotonicRegression "
   ]
  },
  {
   "cell_type": "code",
   "execution_count": 54,
   "metadata": {},
   "outputs": [
    {
     "name": "stdout",
     "output_type": "stream",
     "text": [
      "Platt scaling coef: 1.034707675160267 ; intercept: -4.429173183942388\n"
     ]
    }
   ],
   "source": [
    "classification_calibration_func = PlattScaling()(\n",
    "                            valid_preacts=spi1_test_classification_logits,\n",
    "                            valid_labels=spi1_test_classification_truth)\n"
   ]
  },
  {
   "cell_type": "code",
   "execution_count": 55,
   "metadata": {},
   "outputs": [],
   "source": [
    "spi1_test_classification_predictions_calibrated=classification_calibration_func(spi1_test_classification_logits)"
   ]
  },
  {
   "cell_type": "code",
   "execution_count": 69,
   "metadata": {},
   "outputs": [
    {
     "name": "stdout",
     "output_type": "stream",
     "text": [
      "Loss: 0.0107\tBalanced Accuracy: 60.55%\t auROC: 0.986\t auPRC Careful: 0.375\t auPRC Trapezoidal: 0.375\n",
      "\tRecall at 5%|10%|20% FDR: 0.0%|0.0%|4.3%\t Num Positives: 20574\t Num Negatives: 6015749\n"
     ]
    }
   ],
   "source": [
    "## Generate a ClassificationResult object on calibrated model predictions \n",
    "print(ClassificationResult(spi1_test_classification_truth.values.astype(bool),\n",
    "                           np.expand_dims(spi1_test_classification_predictions_calibrated,axis=1)))"
   ]
  },
  {
   "cell_type": "markdown",
   "metadata": {
    "colab_type": "text",
    "id": "b0sibNElV403"
   },
   "source": [
    "## Genome-wide regression model <a name='6'>\n",
    "<a href=#outline>Home</a>"
   ]
  },
  {
   "cell_type": "code",
   "execution_count": 70,
   "metadata": {
    "colab": {},
    "colab_type": "code",
    "id": "nM0-1aa9V404"
   },
   "outputs": [],
   "source": [
    "def initialize_regression_model(ntasks=1):\n",
    "    #Define the model architecture in keras (regularized, 3-layer convolution model followed by 1 dense layer)\n",
    "    model=Sequential() \n",
    "    \n",
    "    model.add(Conv2D(filters=50,kernel_size=(1,15),padding=\"same\", kernel_constraint=max_norm(7.0,axis=-1),input_shape=(1,1000,4)))\n",
    "    model.add(BatchNormalization(axis=-1))\n",
    "    model.add(Activation('relu'))\n",
    "\n",
    "    model.add(Conv2D(filters=50,kernel_size=(1,15),padding=\"same\"))\n",
    "    model.add(BatchNormalization(axis=-1))\n",
    "    model.add(Activation('relu'))\n",
    "\n",
    "    model.add(Conv2D(filters=50,kernel_size=(1,13),padding=\"same\"))\n",
    "    model.add(BatchNormalization(axis=-1))\n",
    "    model.add(Activation('relu'))\n",
    "    \n",
    "    model.add(MaxPooling2D(pool_size=(1,40)))\n",
    "    \n",
    "    model.add(Flatten())\n",
    "    model.add(Dense(50))\n",
    "    model.add(BatchNormalization(axis=-1))\n",
    "    model.add(Activation('relu'))\n",
    "    model.add(Dropout(0.2))\n",
    "    \n",
    "    model.add(Dense(ntasks))\n",
    "\n",
    "\n",
    "    ##compile the model, specifying the Adam optimizer, and binary cross-entropy loss. \n",
    "    model.compile(optimizer='adam',loss='mse')\n",
    "    return model"
   ]
  },
  {
   "cell_type": "code",
   "execution_count": 57,
   "metadata": {
    "colab": {},
    "colab_type": "code",
    "id": "zO-uKK8GV407",
    "outputId": "04c1a178-b8ee-4b14-c944-328c17ecec9c"
   },
   "outputs": [
    {
     "name": "stdout",
     "output_type": "stream",
     "text": [
      "(4010730, 1)\n"
     ]
    },
    {
     "data": {
      "text/plain": [
       "array([[<matplotlib.axes._subplots.AxesSubplot object at 0x7f793fcda128>]],\n",
       "      dtype=object)"
      ]
     },
     "execution_count": 57,
     "metadata": {},
     "output_type": "execute_result"
    },
    {
     "data": {
      "image/png": "[encoded data removed]",
      "text/plain": [
       "<Figure size 432x288 with 1 Axes>"
      ]
     },
     "metadata": {},
     "output_type": "display_data"
    }
   ],
   "source": [
    "#we want to determine a threshold for upsampling the non-zero bins in a given batch \n",
    "# extract 5 million datapoints from the training data and observe the distribution of non-zero signal values  \n",
    "sample=pd.read_hdf(\"SPI1.train.regression.hdf5\",start=0,stop=5000000)\n",
    "nonzero_sample=sample[sample.max(axis=1)>0]\n",
    "print(nonzero_sample.shape)\n",
    "nonzero_sample.hist(bins=100)"
   ]
  },
  {
   "cell_type": "markdown",
   "metadata": {
    "colab_type": "text",
    "id": "F5Raqyz3V40_"
   },
   "source": [
    "This suggests that 1 is a reasonable threshold for upsampling signal bins in regression "
   ]
  },
  {
   "cell_type": "code",
   "execution_count": 71,
   "metadata": {
    "colab": {},
    "colab_type": "code",
    "id": "JSjGIlYTV41B"
   },
   "outputs": [],
   "source": [
    "#create the generators, no upsampling of positives is used for regression. \n",
    "from dragonn.generators import * \n",
    "spi1_train_regression_gen=DataGenerator(\"SPI1.train.regression.hdf5\",\"hg19.genome.fa.gz\",upsample_ratio=0.3,upsample_thresh=1)\n",
    "spi1_valid_regression_gen=DataGenerator(\"SPI1.valid.regression.hdf5\",\"hg19.genome.fa.gz\",upsample_ratio=0.01,upsample_thresh=1)\n"
   ]
  },
  {
   "cell_type": "code",
   "execution_count": 72,
   "metadata": {
    "colab": {},
    "colab_type": "code",
    "id": "P3pSs4TYV41E",
    "outputId": "bb50b654-2336-4b6d-d16c-a8a15672f379"
   },
   "outputs": [
    {
     "name": "stdout",
     "output_type": "stream",
     "text": [
      "Epoch 1/150\n",
      "10000/10000 [==============================] - 303s 30ms/step - loss: 0.2425 - val_loss: 0.1300\n",
      "Epoch 2/150\n",
      "10000/10000 [==============================] - 295s 29ms/step - loss: 0.1988 - val_loss: 0.1299\n",
      "Epoch 3/150\n",
      "10000/10000 [==============================] - 296s 30ms/step - loss: 0.1920 - val_loss: 0.1383\n",
      "Epoch 4/150\n",
      "10000/10000 [==============================] - 296s 30ms/step - loss: 0.1894 - val_loss: 0.1445\n",
      "Epoch 5/150\n",
      "10000/10000 [==============================] - 293s 29ms/step - loss: 0.1875 - val_loss: 0.0988\n",
      "Epoch 6/150\n",
      "10000/10000 [==============================] - 294s 29ms/step - loss: 0.1859 - val_loss: 0.1275\n",
      "Epoch 7/150\n",
      "10000/10000 [==============================] - 295s 30ms/step - loss: 0.1859 - val_loss: 0.1434\n",
      "Epoch 8/150\n",
      "10000/10000 [==============================] - 294s 29ms/step - loss: 0.1845 - val_loss: 0.1487\n",
      "Epoch 1/150\n"
     ]
    }
   ],
   "source": [
    "#Train the SPI1 regression model \n",
    "spi1_regression_model=initialize_regression_model()\n",
    "\n",
    "## use the keras fit_generator function to train the model with early stopping after 3 epochs \n",
    "history_regression=spi1_regression_model.fit_generator(spi1_train_regression_gen,\n",
    "                                                  validation_data=spi1_valid_regression_gen,\n",
    "                                                  steps_per_epoch=10000,\n",
    "                                                  validation_steps=5000,\n",
    "                                                  epochs=150,\n",
    "                                                  verbose=1,\n",
    "                                                  use_multiprocessing=True,\n",
    "                                                  workers=40,\n",
    "                                                  max_queue_size=100,\n",
    "                                                  callbacks=[EarlyStopping(patience=3,restore_best_weights=True),History()])"
   ]
  },
  {
   "cell_type": "code",
   "execution_count": 73,
   "metadata": {
    "colab": {},
    "colab_type": "code",
    "id": "EFxneNJqV41H",
    "outputId": "472b64dc-f85d-49e6-8bd0-4d023374e04a"
   },
   "outputs": [
    {
     "data": {
      "image/png": "[encoded data removed]",
      "text/plain": [
       "<Figure size 720x288 with 1 Axes>"
      ]
     },
     "metadata": {},
     "output_type": "display_data"
    }
   ],
   "source": [
    "plot_learning_curve(history_regression)"
   ]
  },
  {
   "cell_type": "code",
   "execution_count": 74,
   "metadata": {
    "colab": {},
    "colab_type": "code",
    "id": "_o3I4gN7V41K",
    "outputId": "da95db30-a6ad-4043-86c6-ed587a44277b"
   },
   "outputs": [
    {
     "name": "stdout",
     "output_type": "stream",
     "text": [
      "6047/6047 [==============================] - 496s 82ms/step\n"
     ]
    }
   ],
   "source": [
    "from dragonn.generators import * \n",
    "spi1_test_regression_gen=DataGenerator(\"SPI1.test.regression.hdf5\",\n",
    "                                       \"hg19.genome.fa.gz\",\n",
    "                                         upsample=False,\n",
    "                                         add_revcomp=False,\n",
    "                                         batch_size=1000,\n",
    "                                         tasks=['SPI1'])\n",
    "spi1_test_regression_predictions=spi1_regression_model.predict_generator(spi1_test_regression_gen,\n",
    "                                                               max_queue_size=5000, \n",
    "                                                               workers=40, \n",
    "                                                               use_multiprocessing=True, \n",
    "                                                               verbose=1)\n",
    "spi1_test_regression_truth=spi1_test_regression_gen.data"
   ]
  },
  {
   "cell_type": "code",
   "execution_count": 85,
   "metadata": {},
   "outputs": [],
   "source": [
    "#remove nans, as they corresponnd to ambiguous values \n",
    "spi1_test_regression_truth=spi1_test_regression_truth[~nan_indices]\n",
    "spi1_test_regression_predictions=spi1_test_regression_predictions[~nan_indices]"
   ]
  },
  {
   "cell_type": "code",
   "execution_count": 86,
   "metadata": {},
   "outputs": [
    {
     "data": {
      "text/plain": [
       "(6036323, 1)"
      ]
     },
     "execution_count": 86,
     "metadata": {},
     "output_type": "execute_result"
    }
   ],
   "source": [
    "spi1_test_regression_predictions.shape"
   ]
  },
  {
   "cell_type": "markdown",
   "metadata": {},
   "source": [
    "## Regression model calibration with Isotonic Regression  <a name='7'>\n",
    "<a href=#outline>Home</a>"
   ]
  },
  {
   "cell_type": "code",
   "execution_count": 88,
   "metadata": {},
   "outputs": [],
   "source": [
    "regression_calibration_func = IsotonicRegression()(\n",
    "    valid_preacts=spi1_test_regression_predictions,\n",
    "    valid_labels=spi1_test_regression_truth['SPI1'])"
   ]
  },
  {
   "cell_type": "code",
   "execution_count": 89,
   "metadata": {},
   "outputs": [],
   "source": [
    "spi1_test_regression_predictions_calibrated=regression_calibration_func(spi1_test_regression_predictions)"
   ]
  },
  {
   "cell_type": "code",
   "execution_count": 95,
   "metadata": {},
   "outputs": [],
   "source": [
    "spi1_test_regression_predictions_calibrated=np.expand_dims(spi1_test_regression_predictions_calibrated,axis=1)"
   ]
  },
  {
   "cell_type": "code",
   "execution_count": 96,
   "metadata": {
    "colab": {},
    "colab_type": "code",
    "id": "QMbEZo8XGd2m"
   },
   "outputs": [],
   "source": [
    "## find the indices of the non-zero coverage bins \n",
    "nonzero_bins=spi1_test_regression_truth.max(axis=1)>0"
   ]
  },
  {
   "cell_type": "code",
   "execution_count": 97,
   "metadata": {
    "colab": {},
    "colab_type": "code",
    "id": "-byNK4qMV41N",
    "outputId": "aa18b7e6-6ee2-439d-ca0b-d68d2a7aa8a1"
   },
   "outputs": [
    {
     "name": "stdout",
     "output_type": "stream",
     "text": [
      "Pearson correlation on test set:(array([0.58533401]), array([0.]))\n",
      "Spearman correlation on test set:SpearmanrResult(correlation=0.548537581133218, pvalue=0.0)\n"
     ]
    }
   ],
   "source": [
    "#Calculate spearman and pearson correlation between truth labels and predictions \n",
    "from scipy.stats import pearsonr, spearmanr\n",
    "corr_pearson=pearsonr(spi1_test_regression_truth,spi1_test_regression_predictions_calibrated)\n",
    "corr_spearman=spearmanr(spi1_test_regression_truth,spi1_test_regression_predictions_calibrated)\n",
    "print(\"Pearson correlation on test set:\"+str(corr_pearson))\n",
    "print(\"Spearman correlation on test set:\"+str(corr_spearman))"
   ]
  },
  {
   "cell_type": "code",
   "execution_count": 98,
   "metadata": {
    "colab": {},
    "colab_type": "code",
    "id": "YipLiXRFGd2t",
    "outputId": "f7e2d334-30b4-4661-d8bb-23832c8c5763"
   },
   "outputs": [
    {
     "name": "stdout",
     "output_type": "stream",
     "text": [
      "Pearson correlation on test set:(array([0.53627413]), array([0.]))\n",
      "Spearman correlation on test set:SpearmanrResult(correlation=0.4510345212324681, pvalue=0.0)\n"
     ]
    }
   ],
   "source": [
    "# Calculate the spearman and pearson correlation, restricted to non-zero bins \n",
    "corr_pearson_nonzero_bins=pearsonr(spi1_test_regression_truth[nonzero_bins],spi1_test_regression_predictions_calibrated[nonzero_bins])\n",
    "corr_spearman_nonzero_bins=spearmanr(spi1_test_regression_truth[nonzero_bins],spi1_test_regression_predictions_calibrated[nonzero_bins])\n",
    "print(\"Pearson correlation on test set:\"+str(corr_pearson_nonzero_bins))\n",
    "print(\"Spearman correlation on test set:\"+str(corr_spearman_nonzero_bins))"
   ]
  },
  {
   "cell_type": "code",
   "execution_count": 99,
   "metadata": {
    "colab": {},
    "colab_type": "code",
    "id": "UGW2FQrgGd2y",
    "outputId": "e3069d0a-65d3-4c8c-be0d-eef77ed83581"
   },
   "outputs": [
    {
     "data": {
      "text/plain": [
       "array([0., 0., 0., 0., 0., 0., 0., 0., 0., 0.], dtype=float32)"
      ]
     },
     "execution_count": 99,
     "metadata": {},
     "output_type": "execute_result"
    }
   ],
   "source": [
    "spi1_test_regression_truth.values[0:10].squeeze()"
   ]
  },
  {
   "cell_type": "code",
   "execution_count": 100,
   "metadata": {
    "colab": {},
    "colab_type": "code",
    "id": "SKa34qjbGd21"
   },
   "outputs": [],
   "source": [
    "test_df=pd.DataFrame({\"Observed\":list(spi1_test_regression_truth.values.squeeze()),\n",
    "                     \"Predicted\":list(spi1_test_regression_predictions_calibrated.squeeze())})"
   ]
  },
  {
   "cell_type": "code",
   "execution_count": 101,
   "metadata": {
    "colab": {},
    "colab_type": "code",
    "id": "L1tUvhU5Gd27"
   },
   "outputs": [],
   "source": [
    "test_df_nonzero=pd.DataFrame({\"Observed\":list(spi1_test_regression_truth[nonzero_bins].values.squeeze()),\n",
    "                     \"Predicted\":list(spi1_test_regression_predictions_calibrated[nonzero_bins].squeeze())})"
   ]
  },
  {
   "cell_type": "code",
   "execution_count": 102,
   "metadata": {
    "colab": {},
    "colab_type": "code",
    "id": "Xqvik10lGd29",
    "outputId": "4d35b751-13ce-4555-f798-916765d4e981"
   },
   "outputs": [
    {
     "data": {
      "image/png": "[encoded data removed]",
      "text/plain": [
       "<Figure size 640x480 with 1 Axes>"
      ]
     },
     "metadata": {},
     "output_type": "display_data"
    },
    {
     "name": "stdout",
     "output_type": "stream",
     "text": [
      "<ggplot: (8759890019290)>\n"
     ]
    },
    {
     "data": {
      "image/png": "[encoded data removed]",
      "text/plain": [
       "<Figure size 640x480 with 1 Axes>"
      ]
     },
     "metadata": {},
     "output_type": "display_data"
    },
    {
     "name": "stdout",
     "output_type": "stream",
     "text": [
      "<ggplot: (-9223363276976852550)>\n"
     ]
    }
   ],
   "source": [
    "import plotnine \n",
    "from plotnine import * \n",
    "print((ggplot(test_df,aes(x=\"Observed\",y=\"Predicted\"))\n",
    " +geom_bin2d(bins=100)\n",
    " +theme_bw()\n",
    " +xlab(\"Observed asinh(mean coverage in FC bigWig\")\n",
    " +ylab(\"Model prediction\")\n",
    " +ggtitle(\"SPI1 regression model test set prediction\")))\n",
    "\n",
    "print((ggplot(test_df_nonzero,aes(x=\"Observed\",y=\"Predicted\"))\n",
    " +geom_bin2d(bins=100)\n",
    " +theme_bw()\n",
    " +xlab(\"Observed asinh(mean coverage in FC bigWig\")\n",
    " +ylab(\"Model prediction\")\n",
    " +ggtitle(\"SPI1 regression model test set prediction: bins with nonzero coverage\")))"
   ]
  },
  {
   "cell_type": "markdown",
   "metadata": {
    "colab_type": "text",
    "id": "48jGNSBtV41R"
   },
   "source": [
    "## Genome-wide interpretation of true positive predictions in SPI1, with DeepLIFT <a name='8'>\n",
    "<a href=#outline>Home</a>\n",
    "\n",
    "### Classification Model"
   ]
  },
  {
   "cell_type": "code",
   "execution_count": null,
   "metadata": {
    "colab": {},
    "colab_type": "code",
    "id": "RWumi0mQV41S"
   },
   "outputs": [],
   "source": [
    "#get the true positive predictions with a threshold of 0.9 (i.e. high confidence true positive predictions)\n",
    "spi1_test_classification_truth_bool=spi1_test_classification_truth.values.astype(bool)\n",
    "true_pos_spi1=spi1_test_classification_truth[spi1_test_classification_truth_bool*spi1_test_classification_predictions_calibrated >0.9]\n",
    "true_pos_spi1.head"
   ]
  },
  {
   "cell_type": "code",
   "execution_count": null,
   "metadata": {
    "colab": {},
    "colab_type": "code",
    "id": "UH5WvDmXV41W",
    "outputId": "c549e164-1087-4f2b-93bd-7f0677075090"
   },
   "outputs": [],
   "source": [
    "from dragonn.utils import one_hot_from_bed\n",
    "deep_lift_input_spi1=one_hot_from_bed([i for i in true_pos_spi1.index],\"hg19.genome.fa.gz\")\n",
    "deep_lift_input_spi1.shape"
   ]
  },
  {
   "cell_type": "code",
   "execution_count": null,
   "metadata": {
    "colab": {},
    "colab_type": "code",
    "id": "41dInIg-V41Y"
   },
   "outputs": [],
   "source": [
    "from dragonn.tutorial_utils import deeplift "
   ]
  },
  {
   "cell_type": "code",
   "execution_count": null,
   "metadata": {
    "colab": {},
    "colab_type": "code",
    "id": "hViDtFpGV41a"
   },
   "outputs": [],
   "source": [
    "deep_lift_scores_spi1=deeplift(spi1_classification_model,deep_lift_input_spi1)"
   ]
  },
  {
   "cell_type": "code",
   "execution_count": null,
   "metadata": {
    "colab": {},
    "colab_type": "code",
    "id": "mFkS3UwpV41c",
    "outputId": "953cdbc2-d7c0-4a17-d6d1-227acb47c325"
   },
   "outputs": [],
   "source": [
    "deep_lift_scores_spi1.shape"
   ]
  },
  {
   "cell_type": "markdown",
   "metadata": {
    "colab_type": "text",
    "id": "skCZQ8j0V41e"
   },
   "source": [
    "Let's plot a few of the DeepLIFT tracks and see if the model successfully learned SPI1:"
   ]
  },
  {
   "cell_type": "code",
   "execution_count": null,
   "metadata": {
    "colab": {},
    "colab_type": "code",
    "id": "Srt-dPa_V41e"
   },
   "outputs": [],
   "source": [
    "from dragonn.tutorial_utils import  plot_seq_importance"
   ]
  },
  {
   "cell_type": "code",
   "execution_count": null,
   "metadata": {
    "colab": {},
    "colab_type": "code",
    "id": "nhcSoq48V41h",
    "outputId": "fd5de43b-d65f-4abb-d998-7115c5ad1c1e"
   },
   "outputs": [],
   "source": [
    "plot_seq_importance(deep_lift_scores_spi1[0],deep_lift_input_spi1[0])"
   ]
  },
  {
   "cell_type": "code",
   "execution_count": null,
   "metadata": {
    "colab": {},
    "colab_type": "code",
    "id": "eyejvCeWV41j",
    "outputId": "9985d83c-d05f-4979-f472-bb352cce2f80"
   },
   "outputs": [],
   "source": [
    "plot_seq_importance(deep_lift_scores_spi1[1],deep_lift_input_spi1[1])"
   ]
  },
  {
   "cell_type": "code",
   "execution_count": null,
   "metadata": {
    "colab": {},
    "colab_type": "code",
    "id": "CyuioSW_V41o",
    "outputId": "75f83e18-bf46-475d-c43b-22ab8cdc56d9"
   },
   "outputs": [],
   "source": [
    "plot_seq_importance(deep_lift_scores_spi1[2],deep_lift_input_spi1[2])"
   ]
  },
  {
   "cell_type": "markdown",
   "metadata": {
    "colab_type": "text",
    "id": "AfkuGJTGV41r"
   },
   "source": [
    "Let's zoom in to the center of one sequence so that it is easier to distinguish the motif: "
   ]
  },
  {
   "cell_type": "code",
   "execution_count": null,
   "metadata": {
    "colab": {},
    "colab_type": "code",
    "id": "YCr3vtPeV41s",
    "outputId": "a04a10b2-ff18-44cb-f918-005872cb3b59"
   },
   "outputs": [],
   "source": [
    "plot_seq_importance(deep_lift_scores_spi1[2].squeeze()[550:650],deep_lift_input_spi1[2].squeeze()[550:650])"
   ]
  },
  {
   "cell_type": "markdown",
   "metadata": {
    "colab_type": "text",
    "id": "tiw5YPInV41v"
   },
   "source": [
    "If we query the sequence \"CACTTCCCCT\" in the [TomTom](http://meme-suite.org/tools/tomtom) software from the MEME suite, we find that the motif is a good match for SPIB: \n",
    "<img src=\"https://github.com/kundajelab/dragonn/blob/master/paper_supplement/tutorial_images/SPI1.Tut4.png?raw=1\" alt=\"SPI12TomTom\" width=\"400\"/>\n"
   ]
  },
  {
   "cell_type": "markdown",
   "metadata": {
    "colab_type": "text",
    "id": "kEUxg-r1V41x"
   },
   "source": [
    "### Regression model "
   ]
  },
  {
   "cell_type": "code",
   "execution_count": null,
   "metadata": {
    "colab": {},
    "colab_type": "code",
    "id": "bEJudwWXV41y",
    "outputId": "f2395f38-be1f-4b76-95a3-91cc85efa471"
   },
   "outputs": [],
   "source": [
    "#Sanity-check that the model is learning the SPI1 motif by running DeepLIFT on True Positives with high confidence (>0.9)\n",
    "#get the true positive predictions \n",
    "true_pos=spi1_test_regression_truth[(spi1_test_regression_truth.values*spi1_test_regression_predictions_calibrated)>2]\n",
    "true_pos.shape"
   ]
  },
  {
   "cell_type": "code",
   "execution_count": null,
   "metadata": {
    "colab": {},
    "colab_type": "code",
    "id": "z5dpuvzLV413",
    "outputId": "c0db98aa-22bf-4e44-f15f-0a75df7c9239"
   },
   "outputs": [],
   "source": [
    "deep_lift_input=one_hot_from_bed([i for i in true_pos.index],\"hg19.genome.fa.gz\")\n",
    "deep_lift_input.shape"
   ]
  },
  {
   "cell_type": "code",
   "execution_count": null,
   "metadata": {
    "colab": {},
    "colab_type": "code",
    "id": "D-3kc90ZV416",
    "outputId": "514a9b2b-0f73-45ac-fe0c-b695bb182dbb"
   },
   "outputs": [],
   "source": [
    "help(deeplift)"
   ]
  },
  {
   "cell_type": "code",
   "execution_count": null,
   "metadata": {
    "colab": {},
    "colab_type": "code",
    "id": "YeuZFMZqV41-"
   },
   "outputs": [],
   "source": [
    "deep_lift_scores_spi1=deeplift(spi1_regression_model,deep_lift_input_spi1,target_layer_idx=-1)"
   ]
  },
  {
   "cell_type": "code",
   "execution_count": null,
   "metadata": {
    "colab": {},
    "colab_type": "code",
    "id": "8qigmzDOV41-",
    "outputId": "1ef6a324-0b04-4000-a658-87c75cb0c50d"
   },
   "outputs": [],
   "source": [
    "plot_seq_importance(deep_lift_scores_spi1[0],deep_lift_input_spi1[0])"
   ]
  },
  {
   "cell_type": "code",
   "execution_count": null,
   "metadata": {
    "colab": {},
    "colab_type": "code",
    "id": "EPHe9I8VV42A",
    "outputId": "b7ee3839-2d4e-466b-e2f7-ede00db8a16b"
   },
   "outputs": [],
   "source": [
    "plot_seq_importance(deep_lift_scores_spi1[1],deep_lift_input_spi1[1])"
   ]
  },
  {
   "cell_type": "code",
   "execution_count": null,
   "metadata": {
    "colab": {},
    "colab_type": "code",
    "id": "bogEKZN2V42C",
    "outputId": "6465c01d-b842-4217-9766-aca7a14797b2"
   },
   "outputs": [],
   "source": [
    "plot_seq_importance(deep_lift_scores_spi1[2],deep_lift_input_spi1[2])"
   ]
  },
  {
   "cell_type": "code",
   "execution_count": null,
   "metadata": {
    "colab": {},
    "colab_type": "code",
    "id": "Ck63kAsAV42F",
    "outputId": "5353b1fb-b881-4515-f931-96f49f196045"
   },
   "outputs": [],
   "source": [
    "plot_seq_importance(deep_lift_scores_spi1[2].squeeze()[550:650],deep_lift_input_spi1[2].squeeze()[550:650])"
   ]
  },
  {
   "cell_type": "markdown",
   "metadata": {
    "colab_type": "text",
    "id": "PWqxtR6NV42I"
   },
   "source": [
    "The motif learned by the regression model matches the canonical SPI1 motif, though the deepLIFT tracks are noisier compared to those for the classification model. \n"
   ]
  },
  {
   "cell_type": "markdown",
   "metadata": {
    "colab_type": "text",
    "id": "-PGA_k3RV42J"
   },
   "source": [
    "## Recovering bQTL effect sizes: Classification vs Regression <a name='7'>\n",
    "<a href=#outline>Home</a>"
   ]
  },
  {
   "cell_type": "code",
   "execution_count": 114,
   "metadata": {
    "colab": {},
    "colab_type": "code",
    "id": "GROAoPZDV42J"
   },
   "outputs": [],
   "source": [
    "from dragonn.generators import * \n",
    "bqtl_ref_gen=BQTLGenerator(\"SPI1.bQTLs.txt.gz\",\"hg19.genome.fa.gz\",\"POSTallele\")\n",
    "bqtl_alt_gen=BQTLGenerator(\"SPI1.bQTLs.txt.gz\",\"hg19.genome.fa.gz\",\"ALTallele\")"
   ]
  },
  {
   "cell_type": "code",
   "execution_count": 148,
   "metadata": {},
   "outputs": [
    {
     "data": {
      "text/html": [
       "<div>\n",
       "<style scoped>\n",
       "    .dataframe tbody tr th:only-of-type {\n",
       "        vertical-align: middle;\n",
       "    }\n",
       "\n",
       "    .dataframe tbody tr th {\n",
       "        vertical-align: top;\n",
       "    }\n",
       "\n",
       "    .dataframe thead th {\n",
       "        text-align: right;\n",
       "    }\n",
       "</style>\n",
       "<table border=\"1\" class=\"dataframe\">\n",
       "  <thead>\n",
       "    <tr style=\"text-align: right;\">\n",
       "      <th></th>\n",
       "      <th></th>\n",
       "      <th></th>\n",
       "      <th>ALTdepth</th>\n",
       "      <th>REFDepth</th>\n",
       "      <th>ALTallele</th>\n",
       "      <th>POSTallele</th>\n",
       "      <th>POSTfreq</th>\n",
       "      <th>prechipfreq</th>\n",
       "      <th>pvalue</th>\n",
       "    </tr>\n",
       "    <tr>\n",
       "      <th>Chr</th>\n",
       "      <th>position</th>\n",
       "      <th>Depth</th>\n",
       "      <th></th>\n",
       "      <th></th>\n",
       "      <th></th>\n",
       "      <th></th>\n",
       "      <th></th>\n",
       "      <th></th>\n",
       "      <th></th>\n",
       "    </tr>\n",
       "  </thead>\n",
       "  <tbody>\n",
       "    <tr>\n",
       "      <th>chr17</th>\n",
       "      <th>18967176</th>\n",
       "      <th>538</th>\n",
       "      <td>418</td>\n",
       "      <td>120</td>\n",
       "      <td>G</td>\n",
       "      <td>A</td>\n",
       "      <td>0.223048</td>\n",
       "      <td>0.866699</td>\n",
       "      <td>2.331853e-251</td>\n",
       "    </tr>\n",
       "    <tr>\n",
       "      <th>chr4</th>\n",
       "      <th>176935913</th>\n",
       "      <th>626</th>\n",
       "      <td>597</td>\n",
       "      <td>29</td>\n",
       "      <td>A</td>\n",
       "      <td>C</td>\n",
       "      <td>0.046326</td>\n",
       "      <td>0.543949</td>\n",
       "      <td>4.449643e-162</td>\n",
       "    </tr>\n",
       "    <tr>\n",
       "      <th>chr1</th>\n",
       "      <th>144534083</th>\n",
       "      <th>618</th>\n",
       "      <td>368</td>\n",
       "      <td>250</td>\n",
       "      <td>T</td>\n",
       "      <td>C</td>\n",
       "      <td>0.404531</td>\n",
       "      <td>0.057295</td>\n",
       "      <td>5.863065e-141</td>\n",
       "    </tr>\n",
       "    <tr>\n",
       "      <th>chr17</th>\n",
       "      <th>19015381</th>\n",
       "      <th>144</th>\n",
       "      <td>143</td>\n",
       "      <td>1</td>\n",
       "      <td>A</td>\n",
       "      <td>T</td>\n",
       "      <td>0.006944</td>\n",
       "      <td>0.872850</td>\n",
       "      <td>1.040250e-126</td>\n",
       "    </tr>\n",
       "    <tr>\n",
       "      <th>chr1</th>\n",
       "      <th>17231724</th>\n",
       "      <th>2477</th>\n",
       "      <td>1321</td>\n",
       "      <td>1156</td>\n",
       "      <td>G</td>\n",
       "      <td>A</td>\n",
       "      <td>0.466694</td>\n",
       "      <td>0.255195</td>\n",
       "      <td>9.915948e-114</td>\n",
       "    </tr>\n",
       "    <tr>\n",
       "      <th>chr16</th>\n",
       "      <th>87705494</th>\n",
       "      <th>115</th>\n",
       "      <td>105</td>\n",
       "      <td>10</td>\n",
       "      <td>G</td>\n",
       "      <td>C</td>\n",
       "      <td>0.086957</td>\n",
       "      <td>0.934802</td>\n",
       "      <td>1.195059e-111</td>\n",
       "    </tr>\n",
       "    <tr>\n",
       "      <th>chr12</th>\n",
       "      <th>16789835</th>\n",
       "      <th>483</th>\n",
       "      <td>75</td>\n",
       "      <td>408</td>\n",
       "      <td>T</td>\n",
       "      <td>C</td>\n",
       "      <td>0.844720</td>\n",
       "      <td>0.355177</td>\n",
       "      <td>4.004184e-109</td>\n",
       "    </tr>\n",
       "    <tr>\n",
       "      <th>chr6</th>\n",
       "      <th>4154143</th>\n",
       "      <th>361</th>\n",
       "      <td>341</td>\n",
       "      <td>20</td>\n",
       "      <td>G</td>\n",
       "      <td>A</td>\n",
       "      <td>0.055402</td>\n",
       "      <td>0.600680</td>\n",
       "      <td>1.485270e-108</td>\n",
       "    </tr>\n",
       "    <tr>\n",
       "      <th>chr15</th>\n",
       "      <th>70174409</th>\n",
       "      <th>264</th>\n",
       "      <td>226</td>\n",
       "      <td>38</td>\n",
       "      <td>T</td>\n",
       "      <td>C</td>\n",
       "      <td>0.143939</td>\n",
       "      <td>0.775476</td>\n",
       "      <td>1.982983e-105</td>\n",
       "    </tr>\n",
       "    <tr>\n",
       "      <th>chr12</th>\n",
       "      <th>8608502</th>\n",
       "      <th>443</th>\n",
       "      <td>16</td>\n",
       "      <td>427</td>\n",
       "      <td>A</td>\n",
       "      <td>T</td>\n",
       "      <td>0.963883</td>\n",
       "      <td>0.502999</td>\n",
       "      <td>2.312028e-103</td>\n",
       "    </tr>\n",
       "    <tr>\n",
       "      <th>chr5</th>\n",
       "      <th>124341259</th>\n",
       "      <th>433</th>\n",
       "      <td>406</td>\n",
       "      <td>27</td>\n",
       "      <td>A</td>\n",
       "      <td>T</td>\n",
       "      <td>0.062356</td>\n",
       "      <td>0.536452</td>\n",
       "      <td>8.835877e-101</td>\n",
       "    </tr>\n",
       "    <tr>\n",
       "      <th>chr7</th>\n",
       "      <th>31728180</th>\n",
       "      <th>533</th>\n",
       "      <td>6</td>\n",
       "      <td>527</td>\n",
       "      <td>C</td>\n",
       "      <td>T</td>\n",
       "      <td>0.988743</td>\n",
       "      <td>0.552468</td>\n",
       "      <td>3.904550e-100</td>\n",
       "    </tr>\n",
       "    <tr>\n",
       "      <th rowspan=\"2\" valign=\"top\">chr4</th>\n",
       "      <th>116877281</th>\n",
       "      <th>518</th>\n",
       "      <td>18</td>\n",
       "      <td>500</td>\n",
       "      <td>C</td>\n",
       "      <td>G</td>\n",
       "      <td>0.965251</td>\n",
       "      <td>0.543736</td>\n",
       "      <td>2.108834e-90</td>\n",
       "    </tr>\n",
       "    <tr>\n",
       "      <th>114614140</th>\n",
       "      <th>253</th>\n",
       "      <td>166</td>\n",
       "      <td>87</td>\n",
       "      <td>C</td>\n",
       "      <td>T</td>\n",
       "      <td>0.343874</td>\n",
       "      <td>0.875555</td>\n",
       "      <td>1.636094e-86</td>\n",
       "    </tr>\n",
       "    <tr>\n",
       "      <th>chr1</th>\n",
       "      <th>147994338</th>\n",
       "      <th>1403</th>\n",
       "      <td>744</td>\n",
       "      <td>659</td>\n",
       "      <td>A</td>\n",
       "      <td>G</td>\n",
       "      <td>0.469708</td>\n",
       "      <td>0.718049</td>\n",
       "      <td>7.500611e-85</td>\n",
       "    </tr>\n",
       "    <tr>\n",
       "      <th>chr2</th>\n",
       "      <th>208929601</th>\n",
       "      <th>320</th>\n",
       "      <td>31</td>\n",
       "      <td>289</td>\n",
       "      <td>A</td>\n",
       "      <td>G</td>\n",
       "      <td>0.903125</td>\n",
       "      <td>0.382336</td>\n",
       "      <td>9.163423e-85</td>\n",
       "    </tr>\n",
       "    <tr>\n",
       "      <th rowspan=\"2\" valign=\"top\">chr1</th>\n",
       "      <th>17231951</th>\n",
       "      <th>835</th>\n",
       "      <td>399</td>\n",
       "      <td>436</td>\n",
       "      <td>G</td>\n",
       "      <td>A</td>\n",
       "      <td>0.522156</td>\n",
       "      <td>0.223953</td>\n",
       "      <td>2.048329e-78</td>\n",
       "    </tr>\n",
       "    <tr>\n",
       "      <th>220891416</th>\n",
       "      <th>261</th>\n",
       "      <td>187</td>\n",
       "      <td>74</td>\n",
       "      <td>T</td>\n",
       "      <td>C</td>\n",
       "      <td>0.283525</td>\n",
       "      <td>0.809460</td>\n",
       "      <td>8.505638e-76</td>\n",
       "    </tr>\n",
       "    <tr>\n",
       "      <th>chr10</th>\n",
       "      <th>5894500</th>\n",
       "      <th>395</th>\n",
       "      <td>169</td>\n",
       "      <td>226</td>\n",
       "      <td>G</td>\n",
       "      <td>A</td>\n",
       "      <td>0.572152</td>\n",
       "      <td>0.171495</td>\n",
       "      <td>8.464078e-72</td>\n",
       "    </tr>\n",
       "    <tr>\n",
       "      <th>chr14</th>\n",
       "      <th>72745881</th>\n",
       "      <th>249</th>\n",
       "      <td>178</td>\n",
       "      <td>71</td>\n",
       "      <td>G</td>\n",
       "      <td>A</td>\n",
       "      <td>0.285141</td>\n",
       "      <td>0.804887</td>\n",
       "      <td>2.564907e-70</td>\n",
       "    </tr>\n",
       "    <tr>\n",
       "      <th>chr3</th>\n",
       "      <th>191100642</th>\n",
       "      <th>312</th>\n",
       "      <td>20</td>\n",
       "      <td>292</td>\n",
       "      <td>T</td>\n",
       "      <td>A</td>\n",
       "      <td>0.935897</td>\n",
       "      <td>0.482406</td>\n",
       "      <td>1.234375e-67</td>\n",
       "    </tr>\n",
       "    <tr>\n",
       "      <th>chr4</th>\n",
       "      <th>37814569</th>\n",
       "      <th>49</th>\n",
       "      <td>47</td>\n",
       "      <td>2</td>\n",
       "      <td>T</td>\n",
       "      <td>C</td>\n",
       "      <td>0.040816</td>\n",
       "      <td>0.963675</td>\n",
       "      <td>2.335846e-65</td>\n",
       "    </tr>\n",
       "    <tr>\n",
       "      <th>chr10</th>\n",
       "      <th>105803156</th>\n",
       "      <th>94</th>\n",
       "      <td>85</td>\n",
       "      <td>9</td>\n",
       "      <td>T</td>\n",
       "      <td>G</td>\n",
       "      <td>0.095745</td>\n",
       "      <td>0.871983</td>\n",
       "      <td>4.128140e-65</td>\n",
       "    </tr>\n",
       "    <tr>\n",
       "      <th>chr12</th>\n",
       "      <th>100552499</th>\n",
       "      <th>61</th>\n",
       "      <td>51</td>\n",
       "      <td>10</td>\n",
       "      <td>T</td>\n",
       "      <td>C</td>\n",
       "      <td>0.163934</td>\n",
       "      <td>0.966239</td>\n",
       "      <td>5.727986e-65</td>\n",
       "    </tr>\n",
       "    <tr>\n",
       "      <th>chr5</th>\n",
       "      <th>134649425</th>\n",
       "      <th>109</th>\n",
       "      <td>100</td>\n",
       "      <td>9</td>\n",
       "      <td>C</td>\n",
       "      <td>T</td>\n",
       "      <td>0.082569</td>\n",
       "      <td>0.824678</td>\n",
       "      <td>1.854802e-64</td>\n",
       "    </tr>\n",
       "    <tr>\n",
       "      <th>chr12</th>\n",
       "      <th>5550338</th>\n",
       "      <th>208</th>\n",
       "      <td>123</td>\n",
       "      <td>85</td>\n",
       "      <td>C</td>\n",
       "      <td>T</td>\n",
       "      <td>0.408654</td>\n",
       "      <td>0.889384</td>\n",
       "      <td>8.884883e-63</td>\n",
       "    </tr>\n",
       "    <tr>\n",
       "      <th>chr2</th>\n",
       "      <th>166752686</th>\n",
       "      <th>147</th>\n",
       "      <td>74</td>\n",
       "      <td>73</td>\n",
       "      <td>G</td>\n",
       "      <td>A</td>\n",
       "      <td>0.496599</td>\n",
       "      <td>0.958081</td>\n",
       "      <td>6.121407e-61</td>\n",
       "    </tr>\n",
       "    <tr>\n",
       "      <th>chr1</th>\n",
       "      <th>149514093</th>\n",
       "      <th>848</th>\n",
       "      <td>647</td>\n",
       "      <td>201</td>\n",
       "      <td>G</td>\n",
       "      <td>A</td>\n",
       "      <td>0.237028</td>\n",
       "      <td>0.513221</td>\n",
       "      <td>6.688004e-61</td>\n",
       "    </tr>\n",
       "    <tr>\n",
       "      <th>chr22</th>\n",
       "      <th>44116810</th>\n",
       "      <th>850</th>\n",
       "      <td>848</td>\n",
       "      <td>2</td>\n",
       "      <td>G</td>\n",
       "      <td>C</td>\n",
       "      <td>0.002353</td>\n",
       "      <td>0.266598</td>\n",
       "      <td>4.248273e-60</td>\n",
       "    </tr>\n",
       "    <tr>\n",
       "      <th>chr14</th>\n",
       "      <th>102459203</th>\n",
       "      <th>921</th>\n",
       "      <td>30</td>\n",
       "      <td>891</td>\n",
       "      <td>T</td>\n",
       "      <td>C</td>\n",
       "      <td>0.967427</td>\n",
       "      <td>0.714849</td>\n",
       "      <td>2.622730e-58</td>\n",
       "    </tr>\n",
       "    <tr>\n",
       "      <th>...</th>\n",
       "      <th>...</th>\n",
       "      <th>...</th>\n",
       "      <td>...</td>\n",
       "      <td>...</td>\n",
       "      <td>...</td>\n",
       "      <td>...</td>\n",
       "      <td>...</td>\n",
       "      <td>...</td>\n",
       "      <td>...</td>\n",
       "    </tr>\n",
       "    <tr>\n",
       "      <th rowspan=\"3\" valign=\"top\">chr10</th>\n",
       "      <th>101774347</th>\n",
       "      <th>68</th>\n",
       "      <td>2</td>\n",
       "      <td>66</td>\n",
       "      <td>C</td>\n",
       "      <td>G</td>\n",
       "      <td>0.970588</td>\n",
       "      <td>0.974352</td>\n",
       "      <td>1.000000e+00</td>\n",
       "    </tr>\n",
       "    <tr>\n",
       "      <th>112181500</th>\n",
       "      <th>110</th>\n",
       "      <td>2</td>\n",
       "      <td>108</td>\n",
       "      <td>A</td>\n",
       "      <td>G</td>\n",
       "      <td>0.981818</td>\n",
       "      <td>0.980551</td>\n",
       "      <td>1.000000e+00</td>\n",
       "    </tr>\n",
       "    <tr>\n",
       "      <th>133741899</th>\n",
       "      <th>68</th>\n",
       "      <td>2</td>\n",
       "      <td>66</td>\n",
       "      <td>T</td>\n",
       "      <td>C</td>\n",
       "      <td>0.970588</td>\n",
       "      <td>0.977402</td>\n",
       "      <td>1.000000e+00</td>\n",
       "    </tr>\n",
       "    <tr>\n",
       "      <th rowspan=\"3\" valign=\"top\">chr11</th>\n",
       "      <th>33085384</th>\n",
       "      <th>68</th>\n",
       "      <td>1</td>\n",
       "      <td>67</td>\n",
       "      <td>T</td>\n",
       "      <td>C</td>\n",
       "      <td>0.985294</td>\n",
       "      <td>0.980974</td>\n",
       "      <td>1.000000e+00</td>\n",
       "    </tr>\n",
       "    <tr>\n",
       "      <th>64440492</th>\n",
       "      <th>185</th>\n",
       "      <td>4</td>\n",
       "      <td>181</td>\n",
       "      <td>A</td>\n",
       "      <td>G</td>\n",
       "      <td>0.978378</td>\n",
       "      <td>0.977063</td>\n",
       "      <td>1.000000e+00</td>\n",
       "    </tr>\n",
       "    <tr>\n",
       "      <th>65667796</th>\n",
       "      <th>68</th>\n",
       "      <td>2</td>\n",
       "      <td>66</td>\n",
       "      <td>A</td>\n",
       "      <td>G</td>\n",
       "      <td>0.970588</td>\n",
       "      <td>0.974971</td>\n",
       "      <td>1.000000e+00</td>\n",
       "    </tr>\n",
       "    <tr>\n",
       "      <th>chr12</th>\n",
       "      <th>88516609</th>\n",
       "      <th>68</th>\n",
       "      <td>2</td>\n",
       "      <td>66</td>\n",
       "      <td>G</td>\n",
       "      <td>C</td>\n",
       "      <td>0.970588</td>\n",
       "      <td>0.967728</td>\n",
       "      <td>1.000000e+00</td>\n",
       "    </tr>\n",
       "    <tr>\n",
       "      <th rowspan=\"3\" valign=\"top\">chr13</th>\n",
       "      <th>41236604</th>\n",
       "      <th>68</th>\n",
       "      <td>2</td>\n",
       "      <td>66</td>\n",
       "      <td>T</td>\n",
       "      <td>C</td>\n",
       "      <td>0.970588</td>\n",
       "      <td>0.973155</td>\n",
       "      <td>1.000000e+00</td>\n",
       "    </tr>\n",
       "    <tr>\n",
       "      <th>46698910</th>\n",
       "      <th>68</th>\n",
       "      <td>2</td>\n",
       "      <td>66</td>\n",
       "      <td>T</td>\n",
       "      <td>G</td>\n",
       "      <td>0.970588</td>\n",
       "      <td>0.974675</td>\n",
       "      <td>1.000000e+00</td>\n",
       "    </tr>\n",
       "    <tr>\n",
       "      <th>49992524</th>\n",
       "      <th>70</th>\n",
       "      <td>2</td>\n",
       "      <td>68</td>\n",
       "      <td>A</td>\n",
       "      <td>G</td>\n",
       "      <td>0.971429</td>\n",
       "      <td>0.974728</td>\n",
       "      <td>1.000000e+00</td>\n",
       "    </tr>\n",
       "    <tr>\n",
       "      <th rowspan=\"3\" valign=\"top\">chr16</th>\n",
       "      <th>57334530</th>\n",
       "      <th>68</th>\n",
       "      <td>2</td>\n",
       "      <td>66</td>\n",
       "      <td>T</td>\n",
       "      <td>C</td>\n",
       "      <td>0.970588</td>\n",
       "      <td>0.974649</td>\n",
       "      <td>1.000000e+00</td>\n",
       "    </tr>\n",
       "    <tr>\n",
       "      <th>58277278</th>\n",
       "      <th>136</th>\n",
       "      <td>3</td>\n",
       "      <td>133</td>\n",
       "      <td>G</td>\n",
       "      <td>A</td>\n",
       "      <td>0.977941</td>\n",
       "      <td>0.977680</td>\n",
       "      <td>1.000000e+00</td>\n",
       "    </tr>\n",
       "    <tr>\n",
       "      <th>68899225</th>\n",
       "      <th>68</th>\n",
       "      <td>1</td>\n",
       "      <td>67</td>\n",
       "      <td>A</td>\n",
       "      <td>G</td>\n",
       "      <td>0.985294</td>\n",
       "      <td>0.983796</td>\n",
       "      <td>1.000000e+00</td>\n",
       "    </tr>\n",
       "    <tr>\n",
       "      <th rowspan=\"3\" valign=\"top\">chr17</th>\n",
       "      <th>7146535</th>\n",
       "      <th>68</th>\n",
       "      <td>2</td>\n",
       "      <td>66</td>\n",
       "      <td>T</td>\n",
       "      <td>C</td>\n",
       "      <td>0.970588</td>\n",
       "      <td>0.969602</td>\n",
       "      <td>1.000000e+00</td>\n",
       "    </tr>\n",
       "    <tr>\n",
       "      <th>34842638</th>\n",
       "      <th>109</th>\n",
       "      <td>3</td>\n",
       "      <td>106</td>\n",
       "      <td>A</td>\n",
       "      <td>G</td>\n",
       "      <td>0.972477</td>\n",
       "      <td>0.967917</td>\n",
       "      <td>1.000000e+00</td>\n",
       "    </tr>\n",
       "    <tr>\n",
       "      <th>40544919</th>\n",
       "      <th>68</th>\n",
       "      <td>2</td>\n",
       "      <td>66</td>\n",
       "      <td>A</td>\n",
       "      <td>C</td>\n",
       "      <td>0.970588</td>\n",
       "      <td>0.967221</td>\n",
       "      <td>1.000000e+00</td>\n",
       "    </tr>\n",
       "    <tr>\n",
       "      <th>chr18</th>\n",
       "      <th>29235589</th>\n",
       "      <th>154</th>\n",
       "      <td>3</td>\n",
       "      <td>151</td>\n",
       "      <td>T</td>\n",
       "      <td>A</td>\n",
       "      <td>0.980519</td>\n",
       "      <td>0.978217</td>\n",
       "      <td>1.000000e+00</td>\n",
       "    </tr>\n",
       "    <tr>\n",
       "      <th rowspan=\"2\" valign=\"top\">chr20</th>\n",
       "      <th>17947849</th>\n",
       "      <th>68</th>\n",
       "      <td>2</td>\n",
       "      <td>66</td>\n",
       "      <td>G</td>\n",
       "      <td>C</td>\n",
       "      <td>0.970588</td>\n",
       "      <td>0.973465</td>\n",
       "      <td>1.000000e+00</td>\n",
       "    </tr>\n",
       "    <tr>\n",
       "      <th>55974710</th>\n",
       "      <th>109</th>\n",
       "      <td>3</td>\n",
       "      <td>106</td>\n",
       "      <td>T</td>\n",
       "      <td>C</td>\n",
       "      <td>0.972477</td>\n",
       "      <td>0.973284</td>\n",
       "      <td>1.000000e+00</td>\n",
       "    </tr>\n",
       "    <tr>\n",
       "      <th>chr21</th>\n",
       "      <th>15906208</th>\n",
       "      <th>68</th>\n",
       "      <td>2</td>\n",
       "      <td>66</td>\n",
       "      <td>C</td>\n",
       "      <td>A</td>\n",
       "      <td>0.970588</td>\n",
       "      <td>0.976794</td>\n",
       "      <td>1.000000e+00</td>\n",
       "    </tr>\n",
       "    <tr>\n",
       "      <th rowspan=\"2\" valign=\"top\">chr22</th>\n",
       "      <th>19132135</th>\n",
       "      <th>109</th>\n",
       "      <td>3</td>\n",
       "      <td>106</td>\n",
       "      <td>C</td>\n",
       "      <td>A</td>\n",
       "      <td>0.972477</td>\n",
       "      <td>0.970588</td>\n",
       "      <td>1.000000e+00</td>\n",
       "    </tr>\n",
       "    <tr>\n",
       "      <th>22385610</th>\n",
       "      <th>68</th>\n",
       "      <td>2</td>\n",
       "      <td>66</td>\n",
       "      <td>T</td>\n",
       "      <td>C</td>\n",
       "      <td>0.970588</td>\n",
       "      <td>0.977211</td>\n",
       "      <td>1.000000e+00</td>\n",
       "    </tr>\n",
       "    <tr>\n",
       "      <th>chr1</th>\n",
       "      <th>160616290</th>\n",
       "      <th>109</th>\n",
       "      <td>3</td>\n",
       "      <td>106</td>\n",
       "      <td>T</td>\n",
       "      <td>C</td>\n",
       "      <td>0.972477</td>\n",
       "      <td>0.972343</td>\n",
       "      <td>1.000000e+00</td>\n",
       "    </tr>\n",
       "    <tr>\n",
       "      <th rowspan=\"2\" valign=\"top\">chr6</th>\n",
       "      <th>11877568</th>\n",
       "      <th>185</th>\n",
       "      <td>4</td>\n",
       "      <td>181</td>\n",
       "      <td>G</td>\n",
       "      <td>A</td>\n",
       "      <td>0.978378</td>\n",
       "      <td>0.979350</td>\n",
       "      <td>1.000000e+00</td>\n",
       "    </tr>\n",
       "    <tr>\n",
       "      <th>14730171</th>\n",
       "      <th>109</th>\n",
       "      <td>2</td>\n",
       "      <td>107</td>\n",
       "      <td>T</td>\n",
       "      <td>G</td>\n",
       "      <td>0.981651</td>\n",
       "      <td>0.981113</td>\n",
       "      <td>1.000000e+00</td>\n",
       "    </tr>\n",
       "    <tr>\n",
       "      <th>chr7</th>\n",
       "      <th>72298789</th>\n",
       "      <th>214</th>\n",
       "      <td>4</td>\n",
       "      <td>210</td>\n",
       "      <td>T</td>\n",
       "      <td>C</td>\n",
       "      <td>0.981308</td>\n",
       "      <td>0.979512</td>\n",
       "      <td>1.000000e+00</td>\n",
       "    </tr>\n",
       "    <tr>\n",
       "      <th rowspan=\"2\" valign=\"top\">chr18</th>\n",
       "      <th>46347288</th>\n",
       "      <th>109</th>\n",
       "      <td>3</td>\n",
       "      <td>106</td>\n",
       "      <td>G</td>\n",
       "      <td>A</td>\n",
       "      <td>0.972477</td>\n",
       "      <td>0.972421</td>\n",
       "      <td>1.000000e+00</td>\n",
       "    </tr>\n",
       "    <tr>\n",
       "      <th>55508743</th>\n",
       "      <th>65</th>\n",
       "      <td>2</td>\n",
       "      <td>63</td>\n",
       "      <td>G</td>\n",
       "      <td>A</td>\n",
       "      <td>0.969231</td>\n",
       "      <td>0.975832</td>\n",
       "      <td>1.000000e+00</td>\n",
       "    </tr>\n",
       "    <tr>\n",
       "      <th>chr19</th>\n",
       "      <th>16245697</th>\n",
       "      <th>109</th>\n",
       "      <td>3</td>\n",
       "      <td>106</td>\n",
       "      <td>G</td>\n",
       "      <td>A</td>\n",
       "      <td>0.972477</td>\n",
       "      <td>0.976196</td>\n",
       "      <td>1.000000e+00</td>\n",
       "    </tr>\n",
       "    <tr>\n",
       "      <th>chr5</th>\n",
       "      <th>96271116</th>\n",
       "      <th>154</th>\n",
       "      <td>3</td>\n",
       "      <td>151</td>\n",
       "      <td>C</td>\n",
       "      <td>T</td>\n",
       "      <td>0.980519</td>\n",
       "      <td>0.981440</td>\n",
       "      <td>1.000000e+00</td>\n",
       "    </tr>\n",
       "  </tbody>\n",
       "</table>\n",
       "<p>999799 rows × 7 columns</p>\n",
       "</div>"
      ],
      "text/plain": [
       "                       ALTdepth  REFDepth ALTallele POSTallele  POSTfreq  \\\n",
       "Chr   position  Depth                                                      \n",
       "chr17 18967176  538         418       120         G          A  0.223048   \n",
       "chr4  176935913 626         597        29         A          C  0.046326   \n",
       "chr1  144534083 618         368       250         T          C  0.404531   \n",
       "chr17 19015381  144         143         1         A          T  0.006944   \n",
       "chr1  17231724  2477       1321      1156         G          A  0.466694   \n",
       "chr16 87705494  115         105        10         G          C  0.086957   \n",
       "chr12 16789835  483          75       408         T          C  0.844720   \n",
       "chr6  4154143   361         341        20         G          A  0.055402   \n",
       "chr15 70174409  264         226        38         T          C  0.143939   \n",
       "chr12 8608502   443          16       427         A          T  0.963883   \n",
       "chr5  124341259 433         406        27         A          T  0.062356   \n",
       "chr7  31728180  533           6       527         C          T  0.988743   \n",
       "chr4  116877281 518          18       500         C          G  0.965251   \n",
       "      114614140 253         166        87         C          T  0.343874   \n",
       "chr1  147994338 1403        744       659         A          G  0.469708   \n",
       "chr2  208929601 320          31       289         A          G  0.903125   \n",
       "chr1  17231951  835         399       436         G          A  0.522156   \n",
       "      220891416 261         187        74         T          C  0.283525   \n",
       "chr10 5894500   395         169       226         G          A  0.572152   \n",
       "chr14 72745881  249         178        71         G          A  0.285141   \n",
       "chr3  191100642 312          20       292         T          A  0.935897   \n",
       "chr4  37814569  49           47         2         T          C  0.040816   \n",
       "chr10 105803156 94           85         9         T          G  0.095745   \n",
       "chr12 100552499 61           51        10         T          C  0.163934   \n",
       "chr5  134649425 109         100         9         C          T  0.082569   \n",
       "chr12 5550338   208         123        85         C          T  0.408654   \n",
       "chr2  166752686 147          74        73         G          A  0.496599   \n",
       "chr1  149514093 848         647       201         G          A  0.237028   \n",
       "chr22 44116810  850         848         2         G          C  0.002353   \n",
       "chr14 102459203 921          30       891         T          C  0.967427   \n",
       "...                         ...       ...       ...        ...       ...   \n",
       "chr10 101774347 68            2        66         C          G  0.970588   \n",
       "      112181500 110           2       108         A          G  0.981818   \n",
       "      133741899 68            2        66         T          C  0.970588   \n",
       "chr11 33085384  68            1        67         T          C  0.985294   \n",
       "      64440492  185           4       181         A          G  0.978378   \n",
       "      65667796  68            2        66         A          G  0.970588   \n",
       "chr12 88516609  68            2        66         G          C  0.970588   \n",
       "chr13 41236604  68            2        66         T          C  0.970588   \n",
       "      46698910  68            2        66         T          G  0.970588   \n",
       "      49992524  70            2        68         A          G  0.971429   \n",
       "chr16 57334530  68            2        66         T          C  0.970588   \n",
       "      58277278  136           3       133         G          A  0.977941   \n",
       "      68899225  68            1        67         A          G  0.985294   \n",
       "chr17 7146535   68            2        66         T          C  0.970588   \n",
       "      34842638  109           3       106         A          G  0.972477   \n",
       "      40544919  68            2        66         A          C  0.970588   \n",
       "chr18 29235589  154           3       151         T          A  0.980519   \n",
       "chr20 17947849  68            2        66         G          C  0.970588   \n",
       "      55974710  109           3       106         T          C  0.972477   \n",
       "chr21 15906208  68            2        66         C          A  0.970588   \n",
       "chr22 19132135  109           3       106         C          A  0.972477   \n",
       "      22385610  68            2        66         T          C  0.970588   \n",
       "chr1  160616290 109           3       106         T          C  0.972477   \n",
       "chr6  11877568  185           4       181         G          A  0.978378   \n",
       "      14730171  109           2       107         T          G  0.981651   \n",
       "chr7  72298789  214           4       210         T          C  0.981308   \n",
       "chr18 46347288  109           3       106         G          A  0.972477   \n",
       "      55508743  65            2        63         G          A  0.969231   \n",
       "chr19 16245697  109           3       106         G          A  0.972477   \n",
       "chr5  96271116  154           3       151         C          T  0.980519   \n",
       "\n",
       "                       prechipfreq         pvalue  \n",
       "Chr   position  Depth                              \n",
       "chr17 18967176  538       0.866699  2.331853e-251  \n",
       "chr4  176935913 626       0.543949  4.449643e-162  \n",
       "chr1  144534083 618       0.057295  5.863065e-141  \n",
       "chr17 19015381  144       0.872850  1.040250e-126  \n",
       "chr1  17231724  2477      0.255195  9.915948e-114  \n",
       "chr16 87705494  115       0.934802  1.195059e-111  \n",
       "chr12 16789835  483       0.355177  4.004184e-109  \n",
       "chr6  4154143   361       0.600680  1.485270e-108  \n",
       "chr15 70174409  264       0.775476  1.982983e-105  \n",
       "chr12 8608502   443       0.502999  2.312028e-103  \n",
       "chr5  124341259 433       0.536452  8.835877e-101  \n",
       "chr7  31728180  533       0.552468  3.904550e-100  \n",
       "chr4  116877281 518       0.543736   2.108834e-90  \n",
       "      114614140 253       0.875555   1.636094e-86  \n",
       "chr1  147994338 1403      0.718049   7.500611e-85  \n",
       "chr2  208929601 320       0.382336   9.163423e-85  \n",
       "chr1  17231951  835       0.223953   2.048329e-78  \n",
       "      220891416 261       0.809460   8.505638e-76  \n",
       "chr10 5894500   395       0.171495   8.464078e-72  \n",
       "chr14 72745881  249       0.804887   2.564907e-70  \n",
       "chr3  191100642 312       0.482406   1.234375e-67  \n",
       "chr4  37814569  49        0.963675   2.335846e-65  \n",
       "chr10 105803156 94        0.871983   4.128140e-65  \n",
       "chr12 100552499 61        0.966239   5.727986e-65  \n",
       "chr5  134649425 109       0.824678   1.854802e-64  \n",
       "chr12 5550338   208       0.889384   8.884883e-63  \n",
       "chr2  166752686 147       0.958081   6.121407e-61  \n",
       "chr1  149514093 848       0.513221   6.688004e-61  \n",
       "chr22 44116810  850       0.266598   4.248273e-60  \n",
       "chr14 102459203 921       0.714849   2.622730e-58  \n",
       "...                            ...            ...  \n",
       "chr10 101774347 68        0.974352   1.000000e+00  \n",
       "      112181500 110       0.980551   1.000000e+00  \n",
       "      133741899 68        0.977402   1.000000e+00  \n",
       "chr11 33085384  68        0.980974   1.000000e+00  \n",
       "      64440492  185       0.977063   1.000000e+00  \n",
       "      65667796  68        0.974971   1.000000e+00  \n",
       "chr12 88516609  68        0.967728   1.000000e+00  \n",
       "chr13 41236604  68        0.973155   1.000000e+00  \n",
       "      46698910  68        0.974675   1.000000e+00  \n",
       "      49992524  70        0.974728   1.000000e+00  \n",
       "chr16 57334530  68        0.974649   1.000000e+00  \n",
       "      58277278  136       0.977680   1.000000e+00  \n",
       "      68899225  68        0.983796   1.000000e+00  \n",
       "chr17 7146535   68        0.969602   1.000000e+00  \n",
       "      34842638  109       0.967917   1.000000e+00  \n",
       "      40544919  68        0.967221   1.000000e+00  \n",
       "chr18 29235589  154       0.978217   1.000000e+00  \n",
       "chr20 17947849  68        0.973465   1.000000e+00  \n",
       "      55974710  109       0.973284   1.000000e+00  \n",
       "chr21 15906208  68        0.976794   1.000000e+00  \n",
       "chr22 19132135  109       0.970588   1.000000e+00  \n",
       "      22385610  68        0.977211   1.000000e+00  \n",
       "chr1  160616290 109       0.972343   1.000000e+00  \n",
       "chr6  11877568  185       0.979350   1.000000e+00  \n",
       "      14730171  109       0.981113   1.000000e+00  \n",
       "chr7  72298789  214       0.979512   1.000000e+00  \n",
       "chr18 46347288  109       0.972421   1.000000e+00  \n",
       "      55508743  65        0.975832   1.000000e+00  \n",
       "chr19 16245697  109       0.976196   1.000000e+00  \n",
       "chr5  96271116  154       0.981440   1.000000e+00  \n",
       "\n",
       "[999799 rows x 7 columns]"
      ]
     },
     "execution_count": 148,
     "metadata": {},
     "output_type": "execute_result"
    }
   ],
   "source": [
    "bqtl_ref_gen.data"
   ]
  },
  {
   "cell_type": "code",
   "execution_count": 115,
   "metadata": {
    "colab": {},
    "colab_type": "code",
    "id": "GJq0Ic_8V42L",
    "outputId": "f27e9d3e-87a2-479f-90ca-320bf3066fc0"
   },
   "outputs": [
    {
     "name": "stdout",
     "output_type": "stream",
     "text": [
      "7811/7811 [==============================] - 88s 11ms/step\n"
     ]
    }
   ],
   "source": [
    "bqtl_ref_classification_predictions=spi1_classification_model.predict_generator(bqtl_ref_gen,\n",
    "                                                               max_queue_size=5000, \n",
    "                                                               workers=40, \n",
    "                                                               use_multiprocessing=True, \n",
    "                                                               verbose=1)"
   ]
  },
  {
   "cell_type": "code",
   "execution_count": 116,
   "metadata": {
    "colab": {},
    "colab_type": "code",
    "id": "xlPJpmmLV42L",
    "outputId": "bf8b8ff1-0268-49af-ce7d-9d8875e2ae3f"
   },
   "outputs": [
    {
     "name": "stdout",
     "output_type": "stream",
     "text": [
      "7811/7811 [==============================] - 89s 11ms/step\n"
     ]
    }
   ],
   "source": [
    "bqtl_alt_classification_predictions=spi1_classification_model.predict_generator(bqtl_alt_gen,\n",
    "                                                               max_queue_size=5000, \n",
    "                                                               workers=40, \n",
    "                                                               use_multiprocessing=True, \n",
    "                                                               verbose=1)\n",
    "bqtl_ref_classification_truth=bqtl_ref_gen.data['pvalue']\n",
    "bqtl_ref_classification_truth=np.expand_dims(bqtl_ref_classification_truth,axis=1)"
   ]
  },
  {
   "cell_type": "code",
   "execution_count": 117,
   "metadata": {
    "colab": {},
    "colab_type": "code",
    "id": "MGXJaSvPV42N",
    "outputId": "32d58541-15ab-4c82-90d5-b3118ed18520"
   },
   "outputs": [
    {
     "name": "stdout",
     "output_type": "stream",
     "text": [
      "(999799, 1)\n",
      "(999799, 1)\n",
      "(999799, 1)\n"
     ]
    }
   ],
   "source": [
    "#sanity check the np.array shapes \n",
    "print(bqtl_ref_classification_predictions.shape)\n",
    "print(bqtl_alt_classification_predictions.shape)\n",
    "print(bqtl_ref_classification_truth.shape)"
   ]
  },
  {
   "cell_type": "code",
   "execution_count": 118,
   "metadata": {},
   "outputs": [],
   "source": [
    "#get the pre-activations \n",
    "bqtl_ref_classification_logits=logit(bqtl_ref_classification_predictions)\n",
    "bqtl_alt_classification_logits=logit(bqtl_alt_classification_predictions)\n"
   ]
  },
  {
   "cell_type": "code",
   "execution_count": 131,
   "metadata": {},
   "outputs": [],
   "source": [
    "ref_max_allowed=np.nanmax(bqtl_ref_classification_logits[np.isfinite(bqtl_ref_classification_logits)])"
   ]
  },
  {
   "cell_type": "code",
   "execution_count": 132,
   "metadata": {},
   "outputs": [],
   "source": [
    "ref_min_allowed=np.nanmin(bqtl_ref_classification_logits[np.isfinite(bqtl_ref_classification_logits)])"
   ]
  },
  {
   "cell_type": "code",
   "execution_count": 133,
   "metadata": {},
   "outputs": [],
   "source": [
    "alt_max_allowed=np.nanmax(bqtl_alt_classification_logits[np.isfinite(bqtl_alt_classification_logits)])"
   ]
  },
  {
   "cell_type": "code",
   "execution_count": 134,
   "metadata": {},
   "outputs": [],
   "source": [
    "alt_min_allowed=np.nanmin(bqtl_alt_classification_logits[np.isfinite(bqtl_alt_classification_logits)])"
   ]
  },
  {
   "cell_type": "code",
   "execution_count": 135,
   "metadata": {},
   "outputs": [],
   "source": [
    "## replace any infinite values with the maximum/ minimum finite values in the arrays \n",
    "bqtl_ref_classification_logits[bqtl_ref_classification_logits > ref_max_allowed]=ref_max_allowed \n",
    "bqtl_ref_classification_logits[bqtl_ref_classification_logits < ref_min_allowed]=ref_min_allowed \n",
    "bqtl_alt_classification_logits[bqtl_alt_classification_logits > alt_max_allowed]=alt_max_allowed \n",
    "bqtl_alt_classification_logits[bqtl_alt_classification_logits < alt_min_allowed]=alt_min_allowed \n"
   ]
  },
  {
   "cell_type": "code",
   "execution_count": 136,
   "metadata": {},
   "outputs": [],
   "source": [
    "#calibrate predictions with Platt Scaling \n",
    "bqtl_ref_classification_predictions_calibrated=classification_calibration_func(bqtl_ref_classification_logits)\n",
    "bqtl_alt_classification_predictions_calibrated=classification_calibration_func(bqtl_alt_classification_logits)"
   ]
  },
  {
   "cell_type": "code",
   "execution_count": 137,
   "metadata": {
    "colab": {},
    "colab_type": "code",
    "id": "1NpOM03tV42P",
    "outputId": "9e58fdff-c60a-463a-fa43-2a6979d96064"
   },
   "outputs": [
    {
     "name": "stdout",
     "output_type": "stream",
     "text": [
      "7811/7811 [==============================] - 89s 11ms/step\n",
      "7811/7811 [==============================] - 92s 12ms/step\n"
     ]
    }
   ],
   "source": [
    "bqtl_ref_regression_predictions=spi1_regression_model.predict_generator(bqtl_ref_gen,\n",
    "                                                               max_queue_size=5000, \n",
    "                                                               workers=40, \n",
    "                                                               use_multiprocessing=True, \n",
    "                                                               verbose=1)\n",
    "bqtl_alt_regression_predictions=spi1_regression_model.predict_generator(bqtl_alt_gen,\n",
    "                                                               max_queue_size=5000, \n",
    "                                                               workers=40, \n",
    "                                                               use_multiprocessing=True, \n",
    "                                                               verbose=1)\n"
   ]
  },
  {
   "cell_type": "code",
   "execution_count": 139,
   "metadata": {},
   "outputs": [],
   "source": [
    "# calibrate predictions with isotonic regression \n",
    "bqtl_ref_regression_predictions_calibrated=regression_calibration_func(bqtl_ref_regression_predictions)\n",
    "bqtl_alt_regression_predictions_calibrated=regression_calibration_func(bqtl_alt_regression_predictions)\n"
   ]
  },
  {
   "cell_type": "code",
   "execution_count": 144,
   "metadata": {
    "colab": {},
    "colab_type": "code",
    "id": "hi_Pr6jcV42Q",
    "outputId": "62710f23-734d-4ea4-b9a9-e1c28948d597"
   },
   "outputs": [
    {
     "data": {
      "image/png": "[encoded data removed]",
      "text/plain": [
       "<Figure size 432x288 with 1 Axes>"
      ]
     },
     "metadata": {},
     "output_type": "display_data"
    }
   ],
   "source": [
    "plt.scatter(bqtl_ref_classification_predictions_calibrated, bqtl_alt_classification_predictions_calibrated, s=0.1, alpha=0.01)\n",
    "plt.xlabel(\"Ref\")\n",
    "plt.ylabel(\"Alt\")\n",
    "plt.title(\"BQTL Classification Model Predictions\")\n",
    "plt.show()\n"
   ]
  },
  {
   "cell_type": "code",
   "execution_count": 143,
   "metadata": {
    "colab": {},
    "colab_type": "code",
    "id": "tg-ZRo1tV42R",
    "outputId": "9cb78eaf-ed5f-4fe4-ca02-6f927b07bcca"
   },
   "outputs": [
    {
     "data": {
      "image/png": "[encoded data removed]",
      "text/plain": [
       "<Figure size 432x288 with 1 Axes>"
      ]
     },
     "metadata": {},
     "output_type": "display_data"
    }
   ],
   "source": [
    "plt.scatter(bqtl_ref_regression_predictions_calibrated, bqtl_alt_regression_predictions_calibrated, s=0.1, alpha=0.01)\n",
    "plt.xlabel(\"Ref\")\n",
    "plt.ylabel(\"Alt\")\n",
    "plt.title(\"BQTL Regression Model Predictions\")\n",
    "plt.show()"
   ]
  },
  {
   "cell_type": "code",
   "execution_count": 147,
   "metadata": {},
   "outputs": [
    {
     "data": {
      "image/png": "[encoded data removed]",
      "text/plain": [
       "<Figure size 432x288 with 1 Axes>"
      ]
     },
     "metadata": {},
     "output_type": "display_data"
    }
   ],
   "source": [
    "plt.scatter(-10*np.log10(bqtl_ref_classification_truth), bqtl_ref_regression_predictions_calibrated, s=0.1, alpha=0.01)\n",
    "plt.xlabel(\"-10log10(P-value)\")\n",
    "plt.ylabel(\"Ref Regression Calibrated\")\n",
    "plt.title(\"BQTL Regression Model Predictions\")\n",
    "plt.xlim(0,100)\n",
    "plt.show()"
   ]
  },
  {
   "cell_type": "code",
   "execution_count": 173,
   "metadata": {},
   "outputs": [],
   "source": [
    "#save bqtl predictions \n",
    "chroms=[i[0] for i in bqtl_ref_gen.data.index]\n",
    "pos=[i[1] for i in bqtl_ref_gen.data.index]\n",
    "import h5py \n",
    "bqtl_predictions=h5py.File(\"SPI1.BQTL.predictions.hdf5\",'w')\n",
    "bqtl_predictions.create_dataset(\"bqtl_chrom\",data=np.string_(chroms))\n",
    "bqtl_predictions.create_dataset(\"bqtl_position\",data=np.asarray(pos))\n",
    "bqtl_predictions.create_dataset(\"bqtl_pvalue\",data=bqtl_ref_gen.data['pvalue'])\n",
    "bqtl_predictions.create_dataset(\"bqtl_classification_ref_preactivation\",data=bqtl_ref_classification_logits)\n",
    "bqtl_predictions.create_dataset(\"bqtl_classification_ref_postactivation\",data=bqtl_ref_classification_predictions)\n",
    "bqtl_predictions.create_dataset(\"bqtl_classification_ref_postactivation_calibrated\",data=bqtl_ref_classification_predictions_calibrated)\n",
    "bqtl_predictions.create_dataset(\"bqtl_classification_alt_preactivation\",data=bqtl_alt_classification_logits)\n",
    "bqtl_predictions.create_dataset(\"bqtl_classification_alt_postactivation\",data=bqtl_alt_classification_predictions)\n",
    "bqtl_predictions.create_dataset(\"bqtl_classification_alt_postactivation_calibrated\",data=bqtl_alt_classification_predictions_calibrated)\n",
    "bqtl_predictions.create_dataset(\"bqtl_regression_ref\",data=bqtl_ref_regression_predictions)\n",
    "bqtl_predictions.create_dataset(\"bqtl_regression_ref_calibrated\",data=bqtl_ref_regression_predictions_calibrated)\n",
    "bqtl_predictions.create_dataset(\"bqtl_regression_alt\",data=bqtl_alt_regression_predictions)\n",
    "bqtl_predictions.create_dataset(\"bqtl_regression_alt_calibrated\",data=bqtl_alt_regression_predictions_calibrated)\n",
    "bqtl_predictions.close() \n"
   ]
  },
  {
   "cell_type": "markdown",
   "metadata": {
    "colab_type": "text",
    "id": "QMBWHvnZV42V"
   },
   "source": [
    "## Conclusions <a name='9'>\n",
    "<a href=#outline>Home</a>"
   ]
  },
  {
   "cell_type": "markdown",
   "metadata": {
    "colab_type": "text",
    "id": "PFyKUGQnV42X"
   },
   "source": [
    "## Save tutorial outputs <a name='10'>\n",
    "<a href=#outline>Home</a>\n",
    "\n",
    "We save the models and test set predictions generated in this tutorial to an hdf5 file so that they can be loaded more readily in the future. "
   ]
  },
  {
   "cell_type": "code",
   "execution_count": 175,
   "metadata": {
    "colab": {},
    "colab_type": "code",
    "id": "WBNQNhg3V42X"
   },
   "outputs": [],
   "source": [
    "#save the models \n",
    "spi1_classification_model.save(\"SPI1.classification.model.hdf5\")\n",
    "spi1_regression_model.save(\"SPI1.regression.model.hdf5\")\n",
    "\n",
    "#save the test predictions \n",
    "import h5py \n",
    "test_set_predictions=h5py.File(\"SPI1.test.predictions.hdf5\",'w')\n",
    "test_set_predictions.create_dataset(\"classification_labels\",data=spi1_test_classification_truth)\n",
    "test_set_predictions.create_dataset(\"classification_preactivation\",data=spi1_test_classification_logits)\n",
    "test_set_predictions.create_dataset(\"classification_postactivation\",data=spi1_test_classification_predictions)\n",
    "test_set_predictions.create_dataset(\"classification_postactivation_calibrated\",data=spi1_test_classification_predictions_calibrated)\n",
    "test_set_predictions.create_dataset(\"regression_labels\",data=spi1_test_regression_truth)\n",
    "test_set_predictions.create_dataset(\"regression\",data=spi1_test_regression_predictions)\n",
    "test_set_predictions.create_dataset(\"regression_calibrated\",data=spi1_test_regression_predictions_calibrated)\n",
    "test_set_predictions.close() \n"
   ]
  },
  {
   "cell_type": "code",
   "execution_count": null,
   "metadata": {},
   "outputs": [],
   "source": []
  }
 ],
 "metadata": {
  "accelerator": "GPU",
  "colab": {
   "include_colab_link": true,
   "name": "PrimerTutorial 5 - Functional variant characterization for non-coding SNPs within the SPI1 motif.ipynb",
   "provenance": [],
   "toc_visible": true,
   "version": "0.3.2"
  },
  "kernelspec": {
   "display_name": "Python 3",
   "language": "python",
   "name": "python3"
  },
  "language_info": {
   "codemirror_mode": {
    "name": "ipython",
    "version": 3
   },
   "file_extension": ".py",
   "mimetype": "text/x-python",
   "name": "python",
   "nbconvert_exporter": "python",
   "pygments_lexer": "ipython3",
   "version": "3.6.8"
  }
 },
 "nbformat": 4,
 "nbformat_minor": 1
}
